{
  "nbformat": 4,
  "nbformat_minor": 0,
  "metadata": {
    "colab": {
      "name": "Pavani_Katta_Mini_Capstone_Project_Week_9_DS_15.ipynb",
      "provenance": [],
      "collapsed_sections": [
        "2owdanzAPrSQ",
        "gPV3qf1ZfR0-",
        "Qu9XLeS9k4S9",
        "5zo2Ukn4qGnc",
        "ncgiG8dtwLfW",
        "oOL6q0X6wSCZ",
        "6rpXYtJn19zt",
        "K4AU0cCLlqQz",
        "qdqrHvOmnRq_",
        "zxYDynKUpHAK"
      ]
    },
    "kernelspec": {
      "name": "python3",
      "display_name": "Python 3"
    },
    "language_info": {
      "name": "python"
    }
  },
  "cells": [
    {
      "cell_type": "markdown",
      "source": [
        "#Mini Capstone Project"
      ],
      "metadata": {
        "id": "flVw9GIdGEoZ"
      }
    },
    {
      "cell_type": "markdown",
      "source": [
        "###Introduction"
      ],
      "metadata": {
        "id": "GhSzIw4mHs0L"
      }
    },
    {
      "cell_type": "markdown",
      "source": [
        "The dataset being used in this project is Telco customer chrun data contains information about fictional telecom company that provide home phone and internet services to 7043 customers in california in Q3.It indicates which customer have left,stayed or signed up for their service.Multiple important demographics are included for each customer as well as satisfication score,chrun score and customer life time value(CLTV) index."
      ],
      "metadata": {
        "id": "jq1gI0jqGNfW"
      }
    },
    {
      "cell_type": "markdown",
      "source": [
        "###Q1: Please read the file and explain data types statistically as well as how python is reading it. Please let us know if any data type is read wrong."
      ],
      "metadata": {
        "id": "2owdanzAPrSQ"
      }
    },
    {
      "cell_type": "code",
      "source": [
        "# importing required libraries\n",
        "import pandas as pd\n",
        "import matplotlib.pyplot as plt\n",
        "import seaborn as sns\n",
        "import numpy as np"
      ],
      "metadata": {
        "id": "RorKUbzJOdWH"
      },
      "execution_count": null,
      "outputs": []
    },
    {
      "cell_type": "code",
      "source": [
        "# reading dataset using pandas\n",
        "df_telco=pd.read_excel(\"Telco_customer_churn.xlsx\")\n",
        "df_telco"
      ],
      "metadata": {
        "colab": {
          "base_uri": "https://localhost:8080/",
          "height": 748
        },
        "id": "zVHSsfmeOPfr",
        "outputId": "d097fca3-2c82-415b-de6e-1a0b04ea0f41"
      },
      "execution_count": null,
      "outputs": [
        {
          "output_type": "execute_result",
          "data": {
            "text/plain": [
              "      CustomerID  Count        Country       State          City  Zip Code  \\\n",
              "0     3668-QPYBK    1.0  United States  California   Los Angeles   90003.0   \n",
              "1     9237-HQITU    1.0  United States  California   Los Angeles   90005.0   \n",
              "2     9305-CDSKC    1.0  United States  California   Los Angeles   90006.0   \n",
              "3     7892-POOKP    1.0  United States  California   Los Angeles   90010.0   \n",
              "4     0280-XJGEX    1.0  United States  California   Los Angeles   90015.0   \n",
              "...          ...    ...            ...         ...           ...       ...   \n",
              "7038  2569-WGERO    1.0  United States  California       Landers   92285.0   \n",
              "7039  6840-RESVB    1.0  United States  California      Adelanto   92301.0   \n",
              "7040  2234-XADUH    1.0  United States  California         Amboy   92304.0   \n",
              "7041  4801-JZAZL    1.0  United States  California  Angelus Oaks   92305.0   \n",
              "7042  3186-AJIEK    1.0  United States  California  Apple Valley   92308.0   \n",
              "\n",
              "                    Lat Long   Latitude   Longitude  Gender  ...  \\\n",
              "0     33.964131, -118.272783  33.964131 -118.272783    Male  ...   \n",
              "1      34.059281, -118.30742  34.059281 -118.307420  Female  ...   \n",
              "2     34.048013, -118.293953  34.048013 -118.293953  Female  ...   \n",
              "3     34.062125, -118.315709  34.062125 -118.315709  Female  ...   \n",
              "4     34.039224, -118.266293  34.039224 -118.266293    Male  ...   \n",
              "...                      ...        ...         ...     ...  ...   \n",
              "7038  34.341737, -116.539416  34.341737 -116.539416  Female  ...   \n",
              "7039  34.667815, -117.536183  34.667815 -117.536183    Male  ...   \n",
              "7040  34.559882, -115.637164  34.559882 -115.637164  Female  ...   \n",
              "7041     34.1678, -116.86433  34.167800 -116.864330  Female  ...   \n",
              "7042  34.424926, -117.184503  34.424926 -117.184503    Male  ...   \n",
              "\n",
              "            Contract Paperless Billing             Payment Method  \\\n",
              "0     Month-to-month               Yes               Mailed check   \n",
              "1     Month-to-month               Yes           Electronic check   \n",
              "2     Month-to-month               Yes           Electronic check   \n",
              "3     Month-to-month               Yes           Electronic check   \n",
              "4     Month-to-month               Yes  Bank transfer (automatic)   \n",
              "...              ...               ...                        ...   \n",
              "7038        Two year               Yes  Bank transfer (automatic)   \n",
              "7039        One year               Yes               Mailed check   \n",
              "7040        One year               Yes    Credit card (automatic)   \n",
              "7041  Month-to-month               Yes           Electronic check   \n",
              "7042        Two year               Yes  Bank transfer (automatic)   \n",
              "\n",
              "      Monthly Charges Total Charges Churn Label Churn Value Churn Score  \\\n",
              "0               53.85        108.15         Yes         1.0        86.0   \n",
              "1               70.70        151.65         Yes         1.0        67.0   \n",
              "2               99.65         820.5         Yes         1.0        86.0   \n",
              "3              104.80       3046.05         Yes         1.0        84.0   \n",
              "4              103.70        5036.3         Yes         1.0        89.0   \n",
              "...               ...           ...         ...         ...         ...   \n",
              "7038            21.15        1419.4          No         0.0        45.0   \n",
              "7039            84.80        1990.5          No         0.0        59.0   \n",
              "7040           103.20        7362.9          No         0.0        71.0   \n",
              "7041            29.60        346.45          No         0.0        59.0   \n",
              "7042           105.65        6844.5          No         0.0        38.0   \n",
              "\n",
              "        CLTV                   Churn Reason  \n",
              "0     3239.0   Competitor made better offer  \n",
              "1     2701.0                          Moved  \n",
              "2     5372.0                          Moved  \n",
              "3     5003.0                          Moved  \n",
              "4     5340.0  Competitor had better devices  \n",
              "...      ...                            ...  \n",
              "7038  5306.0                            NaN  \n",
              "7039  2140.0                            NaN  \n",
              "7040  5560.0                            NaN  \n",
              "7041  2793.0                            NaN  \n",
              "7042  5097.0                            NaN  \n",
              "\n",
              "[7043 rows x 33 columns]"
            ],
            "text/html": [
              "\n",
              "  <div id=\"df-5527d208-aab1-47d0-97e9-b1b4fe0d9640\">\n",
              "    <div class=\"colab-df-container\">\n",
              "      <div>\n",
              "<style scoped>\n",
              "    .dataframe tbody tr th:only-of-type {\n",
              "        vertical-align: middle;\n",
              "    }\n",
              "\n",
              "    .dataframe tbody tr th {\n",
              "        vertical-align: top;\n",
              "    }\n",
              "\n",
              "    .dataframe thead th {\n",
              "        text-align: right;\n",
              "    }\n",
              "</style>\n",
              "<table border=\"1\" class=\"dataframe\">\n",
              "  <thead>\n",
              "    <tr style=\"text-align: right;\">\n",
              "      <th></th>\n",
              "      <th>CustomerID</th>\n",
              "      <th>Count</th>\n",
              "      <th>Country</th>\n",
              "      <th>State</th>\n",
              "      <th>City</th>\n",
              "      <th>Zip Code</th>\n",
              "      <th>Lat Long</th>\n",
              "      <th>Latitude</th>\n",
              "      <th>Longitude</th>\n",
              "      <th>Gender</th>\n",
              "      <th>...</th>\n",
              "      <th>Contract</th>\n",
              "      <th>Paperless Billing</th>\n",
              "      <th>Payment Method</th>\n",
              "      <th>Monthly Charges</th>\n",
              "      <th>Total Charges</th>\n",
              "      <th>Churn Label</th>\n",
              "      <th>Churn Value</th>\n",
              "      <th>Churn Score</th>\n",
              "      <th>CLTV</th>\n",
              "      <th>Churn Reason</th>\n",
              "    </tr>\n",
              "  </thead>\n",
              "  <tbody>\n",
              "    <tr>\n",
              "      <th>0</th>\n",
              "      <td>3668-QPYBK</td>\n",
              "      <td>1.0</td>\n",
              "      <td>United States</td>\n",
              "      <td>California</td>\n",
              "      <td>Los Angeles</td>\n",
              "      <td>90003.0</td>\n",
              "      <td>33.964131, -118.272783</td>\n",
              "      <td>33.964131</td>\n",
              "      <td>-118.272783</td>\n",
              "      <td>Male</td>\n",
              "      <td>...</td>\n",
              "      <td>Month-to-month</td>\n",
              "      <td>Yes</td>\n",
              "      <td>Mailed check</td>\n",
              "      <td>53.85</td>\n",
              "      <td>108.15</td>\n",
              "      <td>Yes</td>\n",
              "      <td>1.0</td>\n",
              "      <td>86.0</td>\n",
              "      <td>3239.0</td>\n",
              "      <td>Competitor made better offer</td>\n",
              "    </tr>\n",
              "    <tr>\n",
              "      <th>1</th>\n",
              "      <td>9237-HQITU</td>\n",
              "      <td>1.0</td>\n",
              "      <td>United States</td>\n",
              "      <td>California</td>\n",
              "      <td>Los Angeles</td>\n",
              "      <td>90005.0</td>\n",
              "      <td>34.059281, -118.30742</td>\n",
              "      <td>34.059281</td>\n",
              "      <td>-118.307420</td>\n",
              "      <td>Female</td>\n",
              "      <td>...</td>\n",
              "      <td>Month-to-month</td>\n",
              "      <td>Yes</td>\n",
              "      <td>Electronic check</td>\n",
              "      <td>70.70</td>\n",
              "      <td>151.65</td>\n",
              "      <td>Yes</td>\n",
              "      <td>1.0</td>\n",
              "      <td>67.0</td>\n",
              "      <td>2701.0</td>\n",
              "      <td>Moved</td>\n",
              "    </tr>\n",
              "    <tr>\n",
              "      <th>2</th>\n",
              "      <td>9305-CDSKC</td>\n",
              "      <td>1.0</td>\n",
              "      <td>United States</td>\n",
              "      <td>California</td>\n",
              "      <td>Los Angeles</td>\n",
              "      <td>90006.0</td>\n",
              "      <td>34.048013, -118.293953</td>\n",
              "      <td>34.048013</td>\n",
              "      <td>-118.293953</td>\n",
              "      <td>Female</td>\n",
              "      <td>...</td>\n",
              "      <td>Month-to-month</td>\n",
              "      <td>Yes</td>\n",
              "      <td>Electronic check</td>\n",
              "      <td>99.65</td>\n",
              "      <td>820.5</td>\n",
              "      <td>Yes</td>\n",
              "      <td>1.0</td>\n",
              "      <td>86.0</td>\n",
              "      <td>5372.0</td>\n",
              "      <td>Moved</td>\n",
              "    </tr>\n",
              "    <tr>\n",
              "      <th>3</th>\n",
              "      <td>7892-POOKP</td>\n",
              "      <td>1.0</td>\n",
              "      <td>United States</td>\n",
              "      <td>California</td>\n",
              "      <td>Los Angeles</td>\n",
              "      <td>90010.0</td>\n",
              "      <td>34.062125, -118.315709</td>\n",
              "      <td>34.062125</td>\n",
              "      <td>-118.315709</td>\n",
              "      <td>Female</td>\n",
              "      <td>...</td>\n",
              "      <td>Month-to-month</td>\n",
              "      <td>Yes</td>\n",
              "      <td>Electronic check</td>\n",
              "      <td>104.80</td>\n",
              "      <td>3046.05</td>\n",
              "      <td>Yes</td>\n",
              "      <td>1.0</td>\n",
              "      <td>84.0</td>\n",
              "      <td>5003.0</td>\n",
              "      <td>Moved</td>\n",
              "    </tr>\n",
              "    <tr>\n",
              "      <th>4</th>\n",
              "      <td>0280-XJGEX</td>\n",
              "      <td>1.0</td>\n",
              "      <td>United States</td>\n",
              "      <td>California</td>\n",
              "      <td>Los Angeles</td>\n",
              "      <td>90015.0</td>\n",
              "      <td>34.039224, -118.266293</td>\n",
              "      <td>34.039224</td>\n",
              "      <td>-118.266293</td>\n",
              "      <td>Male</td>\n",
              "      <td>...</td>\n",
              "      <td>Month-to-month</td>\n",
              "      <td>Yes</td>\n",
              "      <td>Bank transfer (automatic)</td>\n",
              "      <td>103.70</td>\n",
              "      <td>5036.3</td>\n",
              "      <td>Yes</td>\n",
              "      <td>1.0</td>\n",
              "      <td>89.0</td>\n",
              "      <td>5340.0</td>\n",
              "      <td>Competitor had better devices</td>\n",
              "    </tr>\n",
              "    <tr>\n",
              "      <th>...</th>\n",
              "      <td>...</td>\n",
              "      <td>...</td>\n",
              "      <td>...</td>\n",
              "      <td>...</td>\n",
              "      <td>...</td>\n",
              "      <td>...</td>\n",
              "      <td>...</td>\n",
              "      <td>...</td>\n",
              "      <td>...</td>\n",
              "      <td>...</td>\n",
              "      <td>...</td>\n",
              "      <td>...</td>\n",
              "      <td>...</td>\n",
              "      <td>...</td>\n",
              "      <td>...</td>\n",
              "      <td>...</td>\n",
              "      <td>...</td>\n",
              "      <td>...</td>\n",
              "      <td>...</td>\n",
              "      <td>...</td>\n",
              "      <td>...</td>\n",
              "    </tr>\n",
              "    <tr>\n",
              "      <th>7038</th>\n",
              "      <td>2569-WGERO</td>\n",
              "      <td>1.0</td>\n",
              "      <td>United States</td>\n",
              "      <td>California</td>\n",
              "      <td>Landers</td>\n",
              "      <td>92285.0</td>\n",
              "      <td>34.341737, -116.539416</td>\n",
              "      <td>34.341737</td>\n",
              "      <td>-116.539416</td>\n",
              "      <td>Female</td>\n",
              "      <td>...</td>\n",
              "      <td>Two year</td>\n",
              "      <td>Yes</td>\n",
              "      <td>Bank transfer (automatic)</td>\n",
              "      <td>21.15</td>\n",
              "      <td>1419.4</td>\n",
              "      <td>No</td>\n",
              "      <td>0.0</td>\n",
              "      <td>45.0</td>\n",
              "      <td>5306.0</td>\n",
              "      <td>NaN</td>\n",
              "    </tr>\n",
              "    <tr>\n",
              "      <th>7039</th>\n",
              "      <td>6840-RESVB</td>\n",
              "      <td>1.0</td>\n",
              "      <td>United States</td>\n",
              "      <td>California</td>\n",
              "      <td>Adelanto</td>\n",
              "      <td>92301.0</td>\n",
              "      <td>34.667815, -117.536183</td>\n",
              "      <td>34.667815</td>\n",
              "      <td>-117.536183</td>\n",
              "      <td>Male</td>\n",
              "      <td>...</td>\n",
              "      <td>One year</td>\n",
              "      <td>Yes</td>\n",
              "      <td>Mailed check</td>\n",
              "      <td>84.80</td>\n",
              "      <td>1990.5</td>\n",
              "      <td>No</td>\n",
              "      <td>0.0</td>\n",
              "      <td>59.0</td>\n",
              "      <td>2140.0</td>\n",
              "      <td>NaN</td>\n",
              "    </tr>\n",
              "    <tr>\n",
              "      <th>7040</th>\n",
              "      <td>2234-XADUH</td>\n",
              "      <td>1.0</td>\n",
              "      <td>United States</td>\n",
              "      <td>California</td>\n",
              "      <td>Amboy</td>\n",
              "      <td>92304.0</td>\n",
              "      <td>34.559882, -115.637164</td>\n",
              "      <td>34.559882</td>\n",
              "      <td>-115.637164</td>\n",
              "      <td>Female</td>\n",
              "      <td>...</td>\n",
              "      <td>One year</td>\n",
              "      <td>Yes</td>\n",
              "      <td>Credit card (automatic)</td>\n",
              "      <td>103.20</td>\n",
              "      <td>7362.9</td>\n",
              "      <td>No</td>\n",
              "      <td>0.0</td>\n",
              "      <td>71.0</td>\n",
              "      <td>5560.0</td>\n",
              "      <td>NaN</td>\n",
              "    </tr>\n",
              "    <tr>\n",
              "      <th>7041</th>\n",
              "      <td>4801-JZAZL</td>\n",
              "      <td>1.0</td>\n",
              "      <td>United States</td>\n",
              "      <td>California</td>\n",
              "      <td>Angelus Oaks</td>\n",
              "      <td>92305.0</td>\n",
              "      <td>34.1678, -116.86433</td>\n",
              "      <td>34.167800</td>\n",
              "      <td>-116.864330</td>\n",
              "      <td>Female</td>\n",
              "      <td>...</td>\n",
              "      <td>Month-to-month</td>\n",
              "      <td>Yes</td>\n",
              "      <td>Electronic check</td>\n",
              "      <td>29.60</td>\n",
              "      <td>346.45</td>\n",
              "      <td>No</td>\n",
              "      <td>0.0</td>\n",
              "      <td>59.0</td>\n",
              "      <td>2793.0</td>\n",
              "      <td>NaN</td>\n",
              "    </tr>\n",
              "    <tr>\n",
              "      <th>7042</th>\n",
              "      <td>3186-AJIEK</td>\n",
              "      <td>1.0</td>\n",
              "      <td>United States</td>\n",
              "      <td>California</td>\n",
              "      <td>Apple Valley</td>\n",
              "      <td>92308.0</td>\n",
              "      <td>34.424926, -117.184503</td>\n",
              "      <td>34.424926</td>\n",
              "      <td>-117.184503</td>\n",
              "      <td>Male</td>\n",
              "      <td>...</td>\n",
              "      <td>Two year</td>\n",
              "      <td>Yes</td>\n",
              "      <td>Bank transfer (automatic)</td>\n",
              "      <td>105.65</td>\n",
              "      <td>6844.5</td>\n",
              "      <td>No</td>\n",
              "      <td>0.0</td>\n",
              "      <td>38.0</td>\n",
              "      <td>5097.0</td>\n",
              "      <td>NaN</td>\n",
              "    </tr>\n",
              "  </tbody>\n",
              "</table>\n",
              "<p>7043 rows × 33 columns</p>\n",
              "</div>\n",
              "      <button class=\"colab-df-convert\" onclick=\"convertToInteractive('df-5527d208-aab1-47d0-97e9-b1b4fe0d9640')\"\n",
              "              title=\"Convert this dataframe to an interactive table.\"\n",
              "              style=\"display:none;\">\n",
              "        \n",
              "  <svg xmlns=\"http://www.w3.org/2000/svg\" height=\"24px\"viewBox=\"0 0 24 24\"\n",
              "       width=\"24px\">\n",
              "    <path d=\"M0 0h24v24H0V0z\" fill=\"none\"/>\n",
              "    <path d=\"M18.56 5.44l.94 2.06.94-2.06 2.06-.94-2.06-.94-.94-2.06-.94 2.06-2.06.94zm-11 1L8.5 8.5l.94-2.06 2.06-.94-2.06-.94L8.5 2.5l-.94 2.06-2.06.94zm10 10l.94 2.06.94-2.06 2.06-.94-2.06-.94-.94-2.06-.94 2.06-2.06.94z\"/><path d=\"M17.41 7.96l-1.37-1.37c-.4-.4-.92-.59-1.43-.59-.52 0-1.04.2-1.43.59L10.3 9.45l-7.72 7.72c-.78.78-.78 2.05 0 2.83L4 21.41c.39.39.9.59 1.41.59.51 0 1.02-.2 1.41-.59l7.78-7.78 2.81-2.81c.8-.78.8-2.07 0-2.86zM5.41 20L4 18.59l7.72-7.72 1.47 1.35L5.41 20z\"/>\n",
              "  </svg>\n",
              "      </button>\n",
              "      \n",
              "  <style>\n",
              "    .colab-df-container {\n",
              "      display:flex;\n",
              "      flex-wrap:wrap;\n",
              "      gap: 12px;\n",
              "    }\n",
              "\n",
              "    .colab-df-convert {\n",
              "      background-color: #E8F0FE;\n",
              "      border: none;\n",
              "      border-radius: 50%;\n",
              "      cursor: pointer;\n",
              "      display: none;\n",
              "      fill: #1967D2;\n",
              "      height: 32px;\n",
              "      padding: 0 0 0 0;\n",
              "      width: 32px;\n",
              "    }\n",
              "\n",
              "    .colab-df-convert:hover {\n",
              "      background-color: #E2EBFA;\n",
              "      box-shadow: 0px 1px 2px rgba(60, 64, 67, 0.3), 0px 1px 3px 1px rgba(60, 64, 67, 0.15);\n",
              "      fill: #174EA6;\n",
              "    }\n",
              "\n",
              "    [theme=dark] .colab-df-convert {\n",
              "      background-color: #3B4455;\n",
              "      fill: #D2E3FC;\n",
              "    }\n",
              "\n",
              "    [theme=dark] .colab-df-convert:hover {\n",
              "      background-color: #434B5C;\n",
              "      box-shadow: 0px 1px 3px 1px rgba(0, 0, 0, 0.15);\n",
              "      filter: drop-shadow(0px 1px 2px rgba(0, 0, 0, 0.3));\n",
              "      fill: #FFFFFF;\n",
              "    }\n",
              "  </style>\n",
              "\n",
              "      <script>\n",
              "        const buttonEl =\n",
              "          document.querySelector('#df-5527d208-aab1-47d0-97e9-b1b4fe0d9640 button.colab-df-convert');\n",
              "        buttonEl.style.display =\n",
              "          google.colab.kernel.accessAllowed ? 'block' : 'none';\n",
              "\n",
              "        async function convertToInteractive(key) {\n",
              "          const element = document.querySelector('#df-5527d208-aab1-47d0-97e9-b1b4fe0d9640');\n",
              "          const dataTable =\n",
              "            await google.colab.kernel.invokeFunction('convertToInteractive',\n",
              "                                                     [key], {});\n",
              "          if (!dataTable) return;\n",
              "\n",
              "          const docLinkHtml = 'Like what you see? Visit the ' +\n",
              "            '<a target=\"_blank\" href=https://colab.research.google.com/notebooks/data_table.ipynb>data table notebook</a>'\n",
              "            + ' to learn more about interactive tables.';\n",
              "          element.innerHTML = '';\n",
              "          dataTable['output_type'] = 'display_data';\n",
              "          await google.colab.output.renderOutput(dataTable, element);\n",
              "          const docLink = document.createElement('div');\n",
              "          docLink.innerHTML = docLinkHtml;\n",
              "          element.appendChild(docLink);\n",
              "        }\n",
              "      </script>\n",
              "    </div>\n",
              "  </div>\n",
              "  "
            ]
          },
          "metadata": {},
          "execution_count": 6
        }
      ]
    },
    {
      "cell_type": "code",
      "source": [
        "# getting first 5 rows using head function\n",
        "df_telco.head()"
      ],
      "metadata": {
        "id": "fkU3xXqGP97Y",
        "colab": {
          "base_uri": "https://localhost:8080/",
          "height": 438
        },
        "outputId": "44d7f3d8-6bcd-46bc-f420-3cadae7f6b32"
      },
      "execution_count": null,
      "outputs": [
        {
          "output_type": "execute_result",
          "data": {
            "text/plain": [
              "   CustomerID  Count        Country       State         City  Zip Code  \\\n",
              "0  3668-QPYBK    1.0  United States  California  Los Angeles   90003.0   \n",
              "1  9237-HQITU    1.0  United States  California  Los Angeles   90005.0   \n",
              "2  9305-CDSKC    1.0  United States  California  Los Angeles   90006.0   \n",
              "3  7892-POOKP    1.0  United States  California  Los Angeles   90010.0   \n",
              "4  0280-XJGEX    1.0  United States  California  Los Angeles   90015.0   \n",
              "\n",
              "                 Lat Long   Latitude   Longitude  Gender  ...        Contract  \\\n",
              "0  33.964131, -118.272783  33.964131 -118.272783    Male  ...  Month-to-month   \n",
              "1   34.059281, -118.30742  34.059281 -118.307420  Female  ...  Month-to-month   \n",
              "2  34.048013, -118.293953  34.048013 -118.293953  Female  ...  Month-to-month   \n",
              "3  34.062125, -118.315709  34.062125 -118.315709  Female  ...  Month-to-month   \n",
              "4  34.039224, -118.266293  34.039224 -118.266293    Male  ...  Month-to-month   \n",
              "\n",
              "  Paperless Billing             Payment Method  Monthly Charges Total Charges  \\\n",
              "0               Yes               Mailed check            53.85        108.15   \n",
              "1               Yes           Electronic check            70.70        151.65   \n",
              "2               Yes           Electronic check            99.65         820.5   \n",
              "3               Yes           Electronic check           104.80       3046.05   \n",
              "4               Yes  Bank transfer (automatic)           103.70        5036.3   \n",
              "\n",
              "  Churn Label Churn Value Churn Score    CLTV                   Churn Reason  \n",
              "0         Yes         1.0        86.0  3239.0   Competitor made better offer  \n",
              "1         Yes         1.0        67.0  2701.0                          Moved  \n",
              "2         Yes         1.0        86.0  5372.0                          Moved  \n",
              "3         Yes         1.0        84.0  5003.0                          Moved  \n",
              "4         Yes         1.0        89.0  5340.0  Competitor had better devices  \n",
              "\n",
              "[5 rows x 33 columns]"
            ],
            "text/html": [
              "\n",
              "  <div id=\"df-7d9d2556-b924-4ca2-8d5f-0c9634ab4f41\">\n",
              "    <div class=\"colab-df-container\">\n",
              "      <div>\n",
              "<style scoped>\n",
              "    .dataframe tbody tr th:only-of-type {\n",
              "        vertical-align: middle;\n",
              "    }\n",
              "\n",
              "    .dataframe tbody tr th {\n",
              "        vertical-align: top;\n",
              "    }\n",
              "\n",
              "    .dataframe thead th {\n",
              "        text-align: right;\n",
              "    }\n",
              "</style>\n",
              "<table border=\"1\" class=\"dataframe\">\n",
              "  <thead>\n",
              "    <tr style=\"text-align: right;\">\n",
              "      <th></th>\n",
              "      <th>CustomerID</th>\n",
              "      <th>Count</th>\n",
              "      <th>Country</th>\n",
              "      <th>State</th>\n",
              "      <th>City</th>\n",
              "      <th>Zip Code</th>\n",
              "      <th>Lat Long</th>\n",
              "      <th>Latitude</th>\n",
              "      <th>Longitude</th>\n",
              "      <th>Gender</th>\n",
              "      <th>...</th>\n",
              "      <th>Contract</th>\n",
              "      <th>Paperless Billing</th>\n",
              "      <th>Payment Method</th>\n",
              "      <th>Monthly Charges</th>\n",
              "      <th>Total Charges</th>\n",
              "      <th>Churn Label</th>\n",
              "      <th>Churn Value</th>\n",
              "      <th>Churn Score</th>\n",
              "      <th>CLTV</th>\n",
              "      <th>Churn Reason</th>\n",
              "    </tr>\n",
              "  </thead>\n",
              "  <tbody>\n",
              "    <tr>\n",
              "      <th>0</th>\n",
              "      <td>3668-QPYBK</td>\n",
              "      <td>1.0</td>\n",
              "      <td>United States</td>\n",
              "      <td>California</td>\n",
              "      <td>Los Angeles</td>\n",
              "      <td>90003.0</td>\n",
              "      <td>33.964131, -118.272783</td>\n",
              "      <td>33.964131</td>\n",
              "      <td>-118.272783</td>\n",
              "      <td>Male</td>\n",
              "      <td>...</td>\n",
              "      <td>Month-to-month</td>\n",
              "      <td>Yes</td>\n",
              "      <td>Mailed check</td>\n",
              "      <td>53.85</td>\n",
              "      <td>108.15</td>\n",
              "      <td>Yes</td>\n",
              "      <td>1.0</td>\n",
              "      <td>86.0</td>\n",
              "      <td>3239.0</td>\n",
              "      <td>Competitor made better offer</td>\n",
              "    </tr>\n",
              "    <tr>\n",
              "      <th>1</th>\n",
              "      <td>9237-HQITU</td>\n",
              "      <td>1.0</td>\n",
              "      <td>United States</td>\n",
              "      <td>California</td>\n",
              "      <td>Los Angeles</td>\n",
              "      <td>90005.0</td>\n",
              "      <td>34.059281, -118.30742</td>\n",
              "      <td>34.059281</td>\n",
              "      <td>-118.307420</td>\n",
              "      <td>Female</td>\n",
              "      <td>...</td>\n",
              "      <td>Month-to-month</td>\n",
              "      <td>Yes</td>\n",
              "      <td>Electronic check</td>\n",
              "      <td>70.70</td>\n",
              "      <td>151.65</td>\n",
              "      <td>Yes</td>\n",
              "      <td>1.0</td>\n",
              "      <td>67.0</td>\n",
              "      <td>2701.0</td>\n",
              "      <td>Moved</td>\n",
              "    </tr>\n",
              "    <tr>\n",
              "      <th>2</th>\n",
              "      <td>9305-CDSKC</td>\n",
              "      <td>1.0</td>\n",
              "      <td>United States</td>\n",
              "      <td>California</td>\n",
              "      <td>Los Angeles</td>\n",
              "      <td>90006.0</td>\n",
              "      <td>34.048013, -118.293953</td>\n",
              "      <td>34.048013</td>\n",
              "      <td>-118.293953</td>\n",
              "      <td>Female</td>\n",
              "      <td>...</td>\n",
              "      <td>Month-to-month</td>\n",
              "      <td>Yes</td>\n",
              "      <td>Electronic check</td>\n",
              "      <td>99.65</td>\n",
              "      <td>820.5</td>\n",
              "      <td>Yes</td>\n",
              "      <td>1.0</td>\n",
              "      <td>86.0</td>\n",
              "      <td>5372.0</td>\n",
              "      <td>Moved</td>\n",
              "    </tr>\n",
              "    <tr>\n",
              "      <th>3</th>\n",
              "      <td>7892-POOKP</td>\n",
              "      <td>1.0</td>\n",
              "      <td>United States</td>\n",
              "      <td>California</td>\n",
              "      <td>Los Angeles</td>\n",
              "      <td>90010.0</td>\n",
              "      <td>34.062125, -118.315709</td>\n",
              "      <td>34.062125</td>\n",
              "      <td>-118.315709</td>\n",
              "      <td>Female</td>\n",
              "      <td>...</td>\n",
              "      <td>Month-to-month</td>\n",
              "      <td>Yes</td>\n",
              "      <td>Electronic check</td>\n",
              "      <td>104.80</td>\n",
              "      <td>3046.05</td>\n",
              "      <td>Yes</td>\n",
              "      <td>1.0</td>\n",
              "      <td>84.0</td>\n",
              "      <td>5003.0</td>\n",
              "      <td>Moved</td>\n",
              "    </tr>\n",
              "    <tr>\n",
              "      <th>4</th>\n",
              "      <td>0280-XJGEX</td>\n",
              "      <td>1.0</td>\n",
              "      <td>United States</td>\n",
              "      <td>California</td>\n",
              "      <td>Los Angeles</td>\n",
              "      <td>90015.0</td>\n",
              "      <td>34.039224, -118.266293</td>\n",
              "      <td>34.039224</td>\n",
              "      <td>-118.266293</td>\n",
              "      <td>Male</td>\n",
              "      <td>...</td>\n",
              "      <td>Month-to-month</td>\n",
              "      <td>Yes</td>\n",
              "      <td>Bank transfer (automatic)</td>\n",
              "      <td>103.70</td>\n",
              "      <td>5036.3</td>\n",
              "      <td>Yes</td>\n",
              "      <td>1.0</td>\n",
              "      <td>89.0</td>\n",
              "      <td>5340.0</td>\n",
              "      <td>Competitor had better devices</td>\n",
              "    </tr>\n",
              "  </tbody>\n",
              "</table>\n",
              "<p>5 rows × 33 columns</p>\n",
              "</div>\n",
              "      <button class=\"colab-df-convert\" onclick=\"convertToInteractive('df-7d9d2556-b924-4ca2-8d5f-0c9634ab4f41')\"\n",
              "              title=\"Convert this dataframe to an interactive table.\"\n",
              "              style=\"display:none;\">\n",
              "        \n",
              "  <svg xmlns=\"http://www.w3.org/2000/svg\" height=\"24px\"viewBox=\"0 0 24 24\"\n",
              "       width=\"24px\">\n",
              "    <path d=\"M0 0h24v24H0V0z\" fill=\"none\"/>\n",
              "    <path d=\"M18.56 5.44l.94 2.06.94-2.06 2.06-.94-2.06-.94-.94-2.06-.94 2.06-2.06.94zm-11 1L8.5 8.5l.94-2.06 2.06-.94-2.06-.94L8.5 2.5l-.94 2.06-2.06.94zm10 10l.94 2.06.94-2.06 2.06-.94-2.06-.94-.94-2.06-.94 2.06-2.06.94z\"/><path d=\"M17.41 7.96l-1.37-1.37c-.4-.4-.92-.59-1.43-.59-.52 0-1.04.2-1.43.59L10.3 9.45l-7.72 7.72c-.78.78-.78 2.05 0 2.83L4 21.41c.39.39.9.59 1.41.59.51 0 1.02-.2 1.41-.59l7.78-7.78 2.81-2.81c.8-.78.8-2.07 0-2.86zM5.41 20L4 18.59l7.72-7.72 1.47 1.35L5.41 20z\"/>\n",
              "  </svg>\n",
              "      </button>\n",
              "      \n",
              "  <style>\n",
              "    .colab-df-container {\n",
              "      display:flex;\n",
              "      flex-wrap:wrap;\n",
              "      gap: 12px;\n",
              "    }\n",
              "\n",
              "    .colab-df-convert {\n",
              "      background-color: #E8F0FE;\n",
              "      border: none;\n",
              "      border-radius: 50%;\n",
              "      cursor: pointer;\n",
              "      display: none;\n",
              "      fill: #1967D2;\n",
              "      height: 32px;\n",
              "      padding: 0 0 0 0;\n",
              "      width: 32px;\n",
              "    }\n",
              "\n",
              "    .colab-df-convert:hover {\n",
              "      background-color: #E2EBFA;\n",
              "      box-shadow: 0px 1px 2px rgba(60, 64, 67, 0.3), 0px 1px 3px 1px rgba(60, 64, 67, 0.15);\n",
              "      fill: #174EA6;\n",
              "    }\n",
              "\n",
              "    [theme=dark] .colab-df-convert {\n",
              "      background-color: #3B4455;\n",
              "      fill: #D2E3FC;\n",
              "    }\n",
              "\n",
              "    [theme=dark] .colab-df-convert:hover {\n",
              "      background-color: #434B5C;\n",
              "      box-shadow: 0px 1px 3px 1px rgba(0, 0, 0, 0.15);\n",
              "      filter: drop-shadow(0px 1px 2px rgba(0, 0, 0, 0.3));\n",
              "      fill: #FFFFFF;\n",
              "    }\n",
              "  </style>\n",
              "\n",
              "      <script>\n",
              "        const buttonEl =\n",
              "          document.querySelector('#df-7d9d2556-b924-4ca2-8d5f-0c9634ab4f41 button.colab-df-convert');\n",
              "        buttonEl.style.display =\n",
              "          google.colab.kernel.accessAllowed ? 'block' : 'none';\n",
              "\n",
              "        async function convertToInteractive(key) {\n",
              "          const element = document.querySelector('#df-7d9d2556-b924-4ca2-8d5f-0c9634ab4f41');\n",
              "          const dataTable =\n",
              "            await google.colab.kernel.invokeFunction('convertToInteractive',\n",
              "                                                     [key], {});\n",
              "          if (!dataTable) return;\n",
              "\n",
              "          const docLinkHtml = 'Like what you see? Visit the ' +\n",
              "            '<a target=\"_blank\" href=https://colab.research.google.com/notebooks/data_table.ipynb>data table notebook</a>'\n",
              "            + ' to learn more about interactive tables.';\n",
              "          element.innerHTML = '';\n",
              "          dataTable['output_type'] = 'display_data';\n",
              "          await google.colab.output.renderOutput(dataTable, element);\n",
              "          const docLink = document.createElement('div');\n",
              "          docLink.innerHTML = docLinkHtml;\n",
              "          element.appendChild(docLink);\n",
              "        }\n",
              "      </script>\n",
              "    </div>\n",
              "  </div>\n",
              "  "
            ]
          },
          "metadata": {},
          "execution_count": 7
        }
      ]
    },
    {
      "cell_type": "code",
      "source": [
        "# getting infornation about variables like type of datatype,whether null values are present or not\n",
        "df_telco.info()"
      ],
      "metadata": {
        "id": "wXagxxUxQGTK",
        "colab": {
          "base_uri": "https://localhost:8080/"
        },
        "outputId": "c463c97e-a736-4a21-8efa-6a5e6bc04d65"
      },
      "execution_count": null,
      "outputs": [
        {
          "output_type": "stream",
          "name": "stdout",
          "text": [
            "<class 'pandas.core.frame.DataFrame'>\n",
            "RangeIndex: 7043 entries, 0 to 7042\n",
            "Data columns (total 33 columns):\n",
            " #   Column             Non-Null Count  Dtype  \n",
            "---  ------             --------------  -----  \n",
            " 0   CustomerID         7043 non-null   object \n",
            " 1   Count              7043 non-null   float64\n",
            " 2   Country            7043 non-null   object \n",
            " 3   State              7043 non-null   object \n",
            " 4   City               7043 non-null   object \n",
            " 5   Zip Code           7043 non-null   float64\n",
            " 6   Lat Long           7043 non-null   object \n",
            " 7   Latitude           7043 non-null   float64\n",
            " 8   Longitude          7043 non-null   float64\n",
            " 9   Gender             7043 non-null   object \n",
            " 10  Senior Citizen     7043 non-null   object \n",
            " 11  Partner            7043 non-null   object \n",
            " 12  Dependents         7043 non-null   object \n",
            " 13  Tenure Months      7043 non-null   float64\n",
            " 14  Phone Service      7043 non-null   object \n",
            " 15  Multiple Lines     7043 non-null   object \n",
            " 16  Internet Service   7043 non-null   object \n",
            " 17  Online Security    7043 non-null   object \n",
            " 18  Online Backup      7043 non-null   object \n",
            " 19  Device Protection  7043 non-null   object \n",
            " 20  Tech Support       7043 non-null   object \n",
            " 21  Streaming TV       7043 non-null   object \n",
            " 22  Streaming Movies   7043 non-null   object \n",
            " 23  Contract           7043 non-null   object \n",
            " 24  Paperless Billing  7043 non-null   object \n",
            " 25  Payment Method     7043 non-null   object \n",
            " 26  Monthly Charges    7043 non-null   float64\n",
            " 27  Total Charges      7043 non-null   object \n",
            " 28  Churn Label        7043 non-null   object \n",
            " 29  Churn Value        7043 non-null   float64\n",
            " 30  Churn Score        7043 non-null   float64\n",
            " 31  CLTV               7043 non-null   float64\n",
            " 32  Churn Reason       1869 non-null   object \n",
            "dtypes: float64(9), object(24)\n",
            "memory usage: 1.8+ MB\n"
          ]
        }
      ]
    },
    {
      "cell_type": "markdown",
      "source": [
        "variable              statistical             python\n",
        "\n",
        "\n",
        "0.customer ID  -        Nominal     -    String\n",
        "\n",
        "1.count    -            Discrete    -       integer\n",
        "\n",
        "2.country     -       Nominal     -       String\n",
        "\n",
        "3.State     -         Nominal       -     String\n",
        "\n",
        "4.city        -       Nominal      -      String\n",
        "\n",
        "5.Zip code     -      Discrete     -      int\n",
        "\n",
        "6.Lat long     -       Nominal       -      String\n",
        "\n",
        "7.Latitude     -      Continuous       - float\n",
        "\n",
        "8.Longitude     -     Continuous       -      float\n",
        "\n",
        "9.Gender       -       Nominal       -   String\n",
        "\n",
        "10.senior citizen  -  Nominal       -   String\n",
        "\n",
        "11.Partner      -     Nominal    -      String\n",
        "\n",
        "12.Dependents    -    Nominal     -     String\n",
        "\n",
        "13.Tensure Months   -   Discrete       -   Int\n",
        "\n",
        "14.Phone service  -   Nominal    -      String\n",
        "\n",
        "15.Multiple lines  -  Nominal   -    String\n",
        "   \n",
        "16.internet service -  Nominal   -      String\n",
        "\n",
        "17.online security,online backup,device protection,tech support,streaming TV,Streaming movies,Contract,paper less billing,payment method, churm label,churm reason for all these columns---\n",
        "Nominal     -       String\n",
        "\n",
        "18.Monthly charges,total charges----\n",
        "                     \n",
        "  Continous      -       Float\n",
        "\n",
        "19.Churm value,chrum score,CLTV---\n",
        "\n",
        "  Discrete      -      Int\n"
      ],
      "metadata": {
        "id": "q6OLKfRlUQR2"
      }
    },
    {
      "cell_type": "markdown",
      "source": [
        "By observing type of data we can see variables which are wrongly read \n",
        "\n",
        "count,tenure months,,churm value,chrum score,CLTV all are interger datatype but read as float\n",
        "\n",
        "whereas \n",
        "\n",
        "total charges is Float type but read as object"
      ],
      "metadata": {
        "id": "6K1HZqJOcHpm"
      }
    },
    {
      "cell_type": "code",
      "source": [
        "# gives no of non missing values for each variable\n",
        "df_telco.count()"
      ],
      "metadata": {
        "colab": {
          "base_uri": "https://localhost:8080/"
        },
        "id": "jyq4m9jKeKBN",
        "outputId": "e85c9ec9-3ca0-4038-d4be-16622e1b628d"
      },
      "execution_count": null,
      "outputs": [
        {
          "output_type": "execute_result",
          "data": {
            "text/plain": [
              "CustomerID           7043\n",
              "Count                7043\n",
              "Country              7043\n",
              "State                7043\n",
              "City                 7043\n",
              "Zip Code             7043\n",
              "Lat Long             7043\n",
              "Latitude             7043\n",
              "Longitude            7043\n",
              "Gender               7043\n",
              "Senior Citizen       7043\n",
              "Partner              7043\n",
              "Dependents           7043\n",
              "Tenure Months        7043\n",
              "Phone Service        7043\n",
              "Multiple Lines       7043\n",
              "Internet Service     7043\n",
              "Online Security      7043\n",
              "Online Backup        7043\n",
              "Device Protection    7043\n",
              "Tech Support         7043\n",
              "Streaming TV         7043\n",
              "Streaming Movies     7043\n",
              "Contract             7043\n",
              "Paperless Billing    7043\n",
              "Payment Method       7043\n",
              "Monthly Charges      7043\n",
              "Total Charges        7043\n",
              "Churn Label          7043\n",
              "Churn Value          7043\n",
              "Churn Score          7043\n",
              "CLTV                 7043\n",
              "Churn Reason         1869\n",
              "dtype: int64"
            ]
          },
          "metadata": {},
          "execution_count": 9
        }
      ]
    },
    {
      "cell_type": "markdown",
      "source": [
        "##Q2:Please apply appropriate statistical measures using python based on data types."
      ],
      "metadata": {
        "id": "gPV3qf1ZfR0-"
      }
    },
    {
      "cell_type": "code",
      "source": [
        "#Total Charges converted to float type since it is wrongly read as object\n",
        "\n",
        "df_telco[\"Total Charges\"] = pd.to_numeric(df_telco[\"Total Charges\"],errors = 'coerce')"
      ],
      "metadata": {
        "id": "JX3Yeelm9B2l",
        "colab": {
          "base_uri": "https://localhost:8080/",
          "height": 200
        },
        "outputId": "64853008-b00e-4cd2-ba37-636f9e494d03"
      },
      "execution_count": null,
      "outputs": [
        {
          "output_type": "error",
          "ename": "NameError",
          "evalue": "ignored",
          "traceback": [
            "\u001b[0;31m---------------------------------------------------------------------------\u001b[0m",
            "\u001b[0;31mNameError\u001b[0m                                 Traceback (most recent call last)",
            "\u001b[0;32m<ipython-input-2-082a808c9ece>\u001b[0m in \u001b[0;36m<module>\u001b[0;34m()\u001b[0m\n\u001b[1;32m      1\u001b[0m \u001b[0;31m#Total Charges converted to float type since it is wrongly read as object\u001b[0m\u001b[0;34m\u001b[0m\u001b[0;34m\u001b[0m\u001b[0;34m\u001b[0m\u001b[0m\n\u001b[1;32m      2\u001b[0m \u001b[0;34m\u001b[0m\u001b[0m\n\u001b[0;32m----> 3\u001b[0;31m \u001b[0mdf_telco\u001b[0m\u001b[0;34m[\u001b[0m\u001b[0;34m\"Total Charges\"\u001b[0m\u001b[0;34m]\u001b[0m \u001b[0;34m=\u001b[0m \u001b[0mpd\u001b[0m\u001b[0;34m.\u001b[0m\u001b[0mto_numeric\u001b[0m\u001b[0;34m(\u001b[0m\u001b[0mdf_telco\u001b[0m\u001b[0;34m[\u001b[0m\u001b[0;34m\"Total Charges\"\u001b[0m\u001b[0;34m]\u001b[0m\u001b[0;34m,\u001b[0m\u001b[0merrors\u001b[0m \u001b[0;34m=\u001b[0m \u001b[0;34m'coerce'\u001b[0m\u001b[0;34m)\u001b[0m\u001b[0;34m\u001b[0m\u001b[0;34m\u001b[0m\u001b[0m\n\u001b[0m",
            "\u001b[0;31mNameError\u001b[0m: name 'pd' is not defined"
          ]
        }
      ]
    },
    {
      "cell_type": "code",
      "source": [
        "# using describe function to get statistical measures for numeric data \n",
        "\n",
        "df_telco.describe(include=\"all\")"
      ],
      "metadata": {
        "colab": {
          "base_uri": "https://localhost:8080/",
          "height": 200
        },
        "id": "WzpaAY2hkG9M",
        "outputId": "5e767f34-de12-408b-e909-fdc3f5fdd244"
      },
      "execution_count": null,
      "outputs": [
        {
          "output_type": "error",
          "ename": "NameError",
          "evalue": "ignored",
          "traceback": [
            "\u001b[0;31m---------------------------------------------------------------------------\u001b[0m",
            "\u001b[0;31mNameError\u001b[0m                                 Traceback (most recent call last)",
            "\u001b[0;32m<ipython-input-3-84f2a6911295>\u001b[0m in \u001b[0;36m<module>\u001b[0;34m()\u001b[0m\n\u001b[1;32m      1\u001b[0m \u001b[0;31m# using describe function to get statistical measures for numeric data\u001b[0m\u001b[0;34m\u001b[0m\u001b[0;34m\u001b[0m\u001b[0;34m\u001b[0m\u001b[0m\n\u001b[1;32m      2\u001b[0m \u001b[0;34m\u001b[0m\u001b[0m\n\u001b[0;32m----> 3\u001b[0;31m \u001b[0mdf_telco\u001b[0m\u001b[0;34m.\u001b[0m\u001b[0mdescribe\u001b[0m\u001b[0;34m(\u001b[0m\u001b[0minclude\u001b[0m\u001b[0;34m=\u001b[0m\u001b[0;34m\"all\"\u001b[0m\u001b[0;34m)\u001b[0m\u001b[0;34m\u001b[0m\u001b[0;34m\u001b[0m\u001b[0m\n\u001b[0m",
            "\u001b[0;31mNameError\u001b[0m: name 'df_telco' is not defined"
          ]
        }
      ]
    },
    {
      "cell_type": "code",
      "source": [
        "df_telco.var()"
      ],
      "metadata": {
        "id": "AO6DJPb98z-U"
      },
      "execution_count": null,
      "outputs": []
    },
    {
      "cell_type": "code",
      "source": [
        "df_telco.median()"
      ],
      "metadata": {
        "id": "bRF3iqXHBS5h"
      },
      "execution_count": null,
      "outputs": []
    },
    {
      "cell_type": "markdown",
      "source": [
        "Statistical measures are the measures of central tendency and dispersion.\n",
        "\n",
        "mean, median, mode comes under measures of central tendency\n",
        "\n",
        "standard deviation,variance,range,quartiles are the measures of dispersion"
      ],
      "metadata": {
        "id": "uLz9ipkdDALo"
      }
    },
    {
      "cell_type": "markdown",
      "source": [
        "##Q3: What is the percentage of females and senior citizens in this data set? Please create appropriate plots and explain the plots."
      ],
      "metadata": {
        "id": "Qu9XLeS9k4S9"
      }
    },
    {
      "cell_type": "code",
      "source": [
        "# counting total numbers in each category\n",
        "\n",
        "df1=[df_telco['Senior Citizen'].value_counts() ['Yes'],df_telco['Gender'].value_counts() ['Female']]\n",
        "print(df1)\n",
        "# creating plot\n",
        "fig=plt.figure(figsize=(10,7))\n",
        "plt.pie(df1, labels = 'SF', autopct='%1.1f%%', shadow=True, startangle=0)\n",
        "# title for the plot\n",
        "plt.title(\"% of Senior citizen and Females\")\n",
        "# show plot\n",
        "plt.show()"
      ],
      "metadata": {
        "colab": {
          "base_uri": "https://localhost:8080/",
          "height": 444
        },
        "id": "_lLxhMm0TyXW",
        "outputId": "84b4f651-19f2-46ee-c376-cc16c3eac414"
      },
      "execution_count": null,
      "outputs": [
        {
          "output_type": "stream",
          "name": "stdout",
          "text": [
            "[1142, 3488]\n"
          ]
        },
        {
          "output_type": "display_data",
          "data": {
            "text/plain": [
              "<Figure size 720x504 with 1 Axes>"
            ],
            "image/png": "[encoded data removed]"
          },
          "metadata": {}
        }
      ]
    },
    {
      "cell_type": "markdown",
      "source": [
        "By this plot we can say\n",
        "\n",
        "75.3% Female\n",
        "\n",
        "24.7% Senior citizens in the given dataset"
      ],
      "metadata": {
        "id": "0TsLl6pWYgmg"
      }
    },
    {
      "cell_type": "markdown",
      "source": [
        "##Q4:  Please create an appropriate plot to examine the distribution of the tenure month column and explain the distribution. Based on distribution, perform appropriate statistical measures. Please also explain if the variable is symmetric or skewed. Please calculate it. Explain everything as asked."
      ],
      "metadata": {
        "id": "5zo2Ukn4qGnc"
      }
    },
    {
      "cell_type": "code",
      "source": [
        "# using seaborn library and distplot to check distribution of tenure months\n",
        "sns.distplot(df_telco['Tenure Months'],bins=10)\n",
        "plt.title(\"Figure 4: Distribution of Tensure Months\")"
      ],
      "metadata": {
        "colab": {
          "base_uri": "https://localhost:8080/",
          "height": 367
        },
        "id": "kMubWzraqwOo",
        "outputId": "f5006d1f-a19e-41a6-bb64-eff522eda42d"
      },
      "execution_count": null,
      "outputs": [
        {
          "output_type": "stream",
          "name": "stderr",
          "text": [
            "/usr/local/lib/python3.7/dist-packages/seaborn/distributions.py:2619: FutureWarning: `distplot` is a deprecated function and will be removed in a future version. Please adapt your code to use either `displot` (a figure-level function with similar flexibility) or `histplot` (an axes-level function for histograms).\n",
            "  warnings.warn(msg, FutureWarning)\n"
          ]
        },
        {
          "output_type": "execute_result",
          "data": {
            "text/plain": [
              "Text(0.5, 1.0, 'Figure 4: Distribution of Tensure Months')"
            ]
          },
          "metadata": {},
          "execution_count": 10
        },
        {
          "output_type": "display_data",
          "data": {
            "text/plain": [
              "<Figure size 432x288 with 1 Axes>"
            ],
            "image/png": "[encoded data removed]"
          },
          "metadata": {
            "needs_background": "light"
          }
        }
      ]
    },
    {
      "cell_type": "code",
      "source": [
        "df_telco['Tenure Months'].describe()"
      ],
      "metadata": {
        "colab": {
          "base_uri": "https://localhost:8080/"
        },
        "id": "k_4UKFn_VOL3",
        "outputId": "1fd0b626-4456-4441-bb5a-3b1606d56a19"
      },
      "execution_count": null,
      "outputs": [
        {
          "output_type": "execute_result",
          "data": {
            "text/plain": [
              "count    7043.000000\n",
              "mean       32.371149\n",
              "std        24.559481\n",
              "min         0.000000\n",
              "25%         9.000000\n",
              "50%        29.000000\n",
              "75%        55.000000\n",
              "max        72.000000\n",
              "Name: Tenure Months, dtype: float64"
            ]
          },
          "metadata": {},
          "execution_count": 11
        }
      ]
    },
    {
      "cell_type": "code",
      "source": [
        "df_telco['Tenure Months'].median()"
      ],
      "metadata": {
        "colab": {
          "base_uri": "https://localhost:8080/"
        },
        "id": "LB3FSNnOgF9q",
        "outputId": "f1ac3260-6651-4e3f-c4e0-a965eac3b2e1"
      },
      "execution_count": null,
      "outputs": [
        {
          "output_type": "execute_result",
          "data": {
            "text/plain": [
              "29.0"
            ]
          },
          "metadata": {},
          "execution_count": 12
        }
      ]
    },
    {
      "cell_type": "code",
      "source": [
        "df_telco['Tenure Months'].mode()"
      ],
      "metadata": {
        "colab": {
          "base_uri": "https://localhost:8080/"
        },
        "id": "4XAVgBbOgTET",
        "outputId": "b7565c24-628e-44b9-bcf3-9868e20c020f"
      },
      "execution_count": null,
      "outputs": [
        {
          "output_type": "execute_result",
          "data": {
            "text/plain": [
              "0    1.0\n",
              "dtype: float64"
            ]
          },
          "metadata": {},
          "execution_count": 13
        }
      ]
    },
    {
      "cell_type": "code",
      "source": [
        "\n",
        "# Importing Scipy library to calculate skewness\n",
        "\n",
        "from scipy.stats import skew\n",
        "print(skew(df_telco['Tenure Months'], axis=0, bias=True))\n"
      ],
      "metadata": {
        "colab": {
          "base_uri": "https://localhost:8080/"
        },
        "id": "b43AZSyVuinr",
        "outputId": "ff566a48-99a4-4cde-dd28-3187aad54593"
      },
      "execution_count": null,
      "outputs": [
        {
          "output_type": "stream",
          "name": "stdout",
          "text": [
            "0.2394887299846216\n"
          ]
        }
      ]
    },
    {
      "cell_type": "markdown",
      "source": [
        "Since the value of skewness > 0 more weight on left tail of distribution and the value is in between 0 and 0.5 so it is Positively skewed and approximately symmetric\n",
        "\n",
        "Positive – observed when the distribution has a thicker right tail and mode<median<mean."
      ],
      "metadata": {
        "id": "KYbcDYHavjlr"
      }
    },
    {
      "cell_type": "markdown",
      "source": [
        "##Q5: Please convert all binary columns into 0 and 1 using appropriate programming constructs, not one by one."
      ],
      "metadata": {
        "id": "ncgiG8dtwLfW"
      }
    },
    {
      "cell_type": "code",
      "source": [
        "# created list for all the values to be replcaed and another for list contains new values to be replaced\n",
        "\n",
        "# using replace method replaced old values with new values\n",
        "\n",
        "df_mod=df_telco.replace(['Male','Female','Yes','No','No internet services', \n",
        "                          'No phone services'],['1','0','1','0','0','0'])\n",
        "df_mod.head()"
      ],
      "metadata": {
        "colab": {
          "base_uri": "https://localhost:8080/",
          "height": 438
        },
        "id": "22CKsbylfCHH",
        "outputId": "338e51f3-5269-4750-83d9-e996d143658b"
      },
      "execution_count": null,
      "outputs": [
        {
          "output_type": "execute_result",
          "data": {
            "text/plain": [
              "   CustomerID  Count        Country       State         City  Zip Code  \\\n",
              "0  3668-QPYBK    1.0  United States  California  Los Angeles   90003.0   \n",
              "1  9237-HQITU    1.0  United States  California  Los Angeles   90005.0   \n",
              "2  9305-CDSKC    1.0  United States  California  Los Angeles   90006.0   \n",
              "3  7892-POOKP    1.0  United States  California  Los Angeles   90010.0   \n",
              "4  0280-XJGEX    1.0  United States  California  Los Angeles   90015.0   \n",
              "\n",
              "                 Lat Long   Latitude   Longitude Gender  ...        Contract  \\\n",
              "0  33.964131, -118.272783  33.964131 -118.272783      1  ...  Month-to-month   \n",
              "1   34.059281, -118.30742  34.059281 -118.307420      0  ...  Month-to-month   \n",
              "2  34.048013, -118.293953  34.048013 -118.293953      0  ...  Month-to-month   \n",
              "3  34.062125, -118.315709  34.062125 -118.315709      0  ...  Month-to-month   \n",
              "4  34.039224, -118.266293  34.039224 -118.266293      1  ...  Month-to-month   \n",
              "\n",
              "  Paperless Billing             Payment Method  Monthly Charges Total Charges  \\\n",
              "0                 1               Mailed check            53.85        108.15   \n",
              "1                 1           Electronic check            70.70        151.65   \n",
              "2                 1           Electronic check            99.65        820.50   \n",
              "3                 1           Electronic check           104.80       3046.05   \n",
              "4                 1  Bank transfer (automatic)           103.70       5036.30   \n",
              "\n",
              "  Churn Label Churn Value Churn Score    CLTV                   Churn Reason  \n",
              "0           1         1.0        86.0  3239.0   Competitor made better offer  \n",
              "1           1         1.0        67.0  2701.0                          Moved  \n",
              "2           1         1.0        86.0  5372.0                          Moved  \n",
              "3           1         1.0        84.0  5003.0                          Moved  \n",
              "4           1         1.0        89.0  5340.0  Competitor had better devices  \n",
              "\n",
              "[5 rows x 33 columns]"
            ],
            "text/html": [
              "\n",
              "  <div id=\"df-16ef7cd3-e777-4103-85ae-4253f1dc6d81\">\n",
              "    <div class=\"colab-df-container\">\n",
              "      <div>\n",
              "<style scoped>\n",
              "    .dataframe tbody tr th:only-of-type {\n",
              "        vertical-align: middle;\n",
              "    }\n",
              "\n",
              "    .dataframe tbody tr th {\n",
              "        vertical-align: top;\n",
              "    }\n",
              "\n",
              "    .dataframe thead th {\n",
              "        text-align: right;\n",
              "    }\n",
              "</style>\n",
              "<table border=\"1\" class=\"dataframe\">\n",
              "  <thead>\n",
              "    <tr style=\"text-align: right;\">\n",
              "      <th></th>\n",
              "      <th>CustomerID</th>\n",
              "      <th>Count</th>\n",
              "      <th>Country</th>\n",
              "      <th>State</th>\n",
              "      <th>City</th>\n",
              "      <th>Zip Code</th>\n",
              "      <th>Lat Long</th>\n",
              "      <th>Latitude</th>\n",
              "      <th>Longitude</th>\n",
              "      <th>Gender</th>\n",
              "      <th>...</th>\n",
              "      <th>Contract</th>\n",
              "      <th>Paperless Billing</th>\n",
              "      <th>Payment Method</th>\n",
              "      <th>Monthly Charges</th>\n",
              "      <th>Total Charges</th>\n",
              "      <th>Churn Label</th>\n",
              "      <th>Churn Value</th>\n",
              "      <th>Churn Score</th>\n",
              "      <th>CLTV</th>\n",
              "      <th>Churn Reason</th>\n",
              "    </tr>\n",
              "  </thead>\n",
              "  <tbody>\n",
              "    <tr>\n",
              "      <th>0</th>\n",
              "      <td>3668-QPYBK</td>\n",
              "      <td>1.0</td>\n",
              "      <td>United States</td>\n",
              "      <td>California</td>\n",
              "      <td>Los Angeles</td>\n",
              "      <td>90003.0</td>\n",
              "      <td>33.964131, -118.272783</td>\n",
              "      <td>33.964131</td>\n",
              "      <td>-118.272783</td>\n",
              "      <td>1</td>\n",
              "      <td>...</td>\n",
              "      <td>Month-to-month</td>\n",
              "      <td>1</td>\n",
              "      <td>Mailed check</td>\n",
              "      <td>53.85</td>\n",
              "      <td>108.15</td>\n",
              "      <td>1</td>\n",
              "      <td>1.0</td>\n",
              "      <td>86.0</td>\n",
              "      <td>3239.0</td>\n",
              "      <td>Competitor made better offer</td>\n",
              "    </tr>\n",
              "    <tr>\n",
              "      <th>1</th>\n",
              "      <td>9237-HQITU</td>\n",
              "      <td>1.0</td>\n",
              "      <td>United States</td>\n",
              "      <td>California</td>\n",
              "      <td>Los Angeles</td>\n",
              "      <td>90005.0</td>\n",
              "      <td>34.059281, -118.30742</td>\n",
              "      <td>34.059281</td>\n",
              "      <td>-118.307420</td>\n",
              "      <td>0</td>\n",
              "      <td>...</td>\n",
              "      <td>Month-to-month</td>\n",
              "      <td>1</td>\n",
              "      <td>Electronic check</td>\n",
              "      <td>70.70</td>\n",
              "      <td>151.65</td>\n",
              "      <td>1</td>\n",
              "      <td>1.0</td>\n",
              "      <td>67.0</td>\n",
              "      <td>2701.0</td>\n",
              "      <td>Moved</td>\n",
              "    </tr>\n",
              "    <tr>\n",
              "      <th>2</th>\n",
              "      <td>9305-CDSKC</td>\n",
              "      <td>1.0</td>\n",
              "      <td>United States</td>\n",
              "      <td>California</td>\n",
              "      <td>Los Angeles</td>\n",
              "      <td>90006.0</td>\n",
              "      <td>34.048013, -118.293953</td>\n",
              "      <td>34.048013</td>\n",
              "      <td>-118.293953</td>\n",
              "      <td>0</td>\n",
              "      <td>...</td>\n",
              "      <td>Month-to-month</td>\n",
              "      <td>1</td>\n",
              "      <td>Electronic check</td>\n",
              "      <td>99.65</td>\n",
              "      <td>820.50</td>\n",
              "      <td>1</td>\n",
              "      <td>1.0</td>\n",
              "      <td>86.0</td>\n",
              "      <td>5372.0</td>\n",
              "      <td>Moved</td>\n",
              "    </tr>\n",
              "    <tr>\n",
              "      <th>3</th>\n",
              "      <td>7892-POOKP</td>\n",
              "      <td>1.0</td>\n",
              "      <td>United States</td>\n",
              "      <td>California</td>\n",
              "      <td>Los Angeles</td>\n",
              "      <td>90010.0</td>\n",
              "      <td>34.062125, -118.315709</td>\n",
              "      <td>34.062125</td>\n",
              "      <td>-118.315709</td>\n",
              "      <td>0</td>\n",
              "      <td>...</td>\n",
              "      <td>Month-to-month</td>\n",
              "      <td>1</td>\n",
              "      <td>Electronic check</td>\n",
              "      <td>104.80</td>\n",
              "      <td>3046.05</td>\n",
              "      <td>1</td>\n",
              "      <td>1.0</td>\n",
              "      <td>84.0</td>\n",
              "      <td>5003.0</td>\n",
              "      <td>Moved</td>\n",
              "    </tr>\n",
              "    <tr>\n",
              "      <th>4</th>\n",
              "      <td>0280-XJGEX</td>\n",
              "      <td>1.0</td>\n",
              "      <td>United States</td>\n",
              "      <td>California</td>\n",
              "      <td>Los Angeles</td>\n",
              "      <td>90015.0</td>\n",
              "      <td>34.039224, -118.266293</td>\n",
              "      <td>34.039224</td>\n",
              "      <td>-118.266293</td>\n",
              "      <td>1</td>\n",
              "      <td>...</td>\n",
              "      <td>Month-to-month</td>\n",
              "      <td>1</td>\n",
              "      <td>Bank transfer (automatic)</td>\n",
              "      <td>103.70</td>\n",
              "      <td>5036.30</td>\n",
              "      <td>1</td>\n",
              "      <td>1.0</td>\n",
              "      <td>89.0</td>\n",
              "      <td>5340.0</td>\n",
              "      <td>Competitor had better devices</td>\n",
              "    </tr>\n",
              "  </tbody>\n",
              "</table>\n",
              "<p>5 rows × 33 columns</p>\n",
              "</div>\n",
              "      <button class=\"colab-df-convert\" onclick=\"convertToInteractive('df-16ef7cd3-e777-4103-85ae-4253f1dc6d81')\"\n",
              "              title=\"Convert this dataframe to an interactive table.\"\n",
              "              style=\"display:none;\">\n",
              "        \n",
              "  <svg xmlns=\"http://www.w3.org/2000/svg\" height=\"24px\"viewBox=\"0 0 24 24\"\n",
              "       width=\"24px\">\n",
              "    <path d=\"M0 0h24v24H0V0z\" fill=\"none\"/>\n",
              "    <path d=\"M18.56 5.44l.94 2.06.94-2.06 2.06-.94-2.06-.94-.94-2.06-.94 2.06-2.06.94zm-11 1L8.5 8.5l.94-2.06 2.06-.94-2.06-.94L8.5 2.5l-.94 2.06-2.06.94zm10 10l.94 2.06.94-2.06 2.06-.94-2.06-.94-.94-2.06-.94 2.06-2.06.94z\"/><path d=\"M17.41 7.96l-1.37-1.37c-.4-.4-.92-.59-1.43-.59-.52 0-1.04.2-1.43.59L10.3 9.45l-7.72 7.72c-.78.78-.78 2.05 0 2.83L4 21.41c.39.39.9.59 1.41.59.51 0 1.02-.2 1.41-.59l7.78-7.78 2.81-2.81c.8-.78.8-2.07 0-2.86zM5.41 20L4 18.59l7.72-7.72 1.47 1.35L5.41 20z\"/>\n",
              "  </svg>\n",
              "      </button>\n",
              "      \n",
              "  <style>\n",
              "    .colab-df-container {\n",
              "      display:flex;\n",
              "      flex-wrap:wrap;\n",
              "      gap: 12px;\n",
              "    }\n",
              "\n",
              "    .colab-df-convert {\n",
              "      background-color: #E8F0FE;\n",
              "      border: none;\n",
              "      border-radius: 50%;\n",
              "      cursor: pointer;\n",
              "      display: none;\n",
              "      fill: #1967D2;\n",
              "      height: 32px;\n",
              "      padding: 0 0 0 0;\n",
              "      width: 32px;\n",
              "    }\n",
              "\n",
              "    .colab-df-convert:hover {\n",
              "      background-color: #E2EBFA;\n",
              "      box-shadow: 0px 1px 2px rgba(60, 64, 67, 0.3), 0px 1px 3px 1px rgba(60, 64, 67, 0.15);\n",
              "      fill: #174EA6;\n",
              "    }\n",
              "\n",
              "    [theme=dark] .colab-df-convert {\n",
              "      background-color: #3B4455;\n",
              "      fill: #D2E3FC;\n",
              "    }\n",
              "\n",
              "    [theme=dark] .colab-df-convert:hover {\n",
              "      background-color: #434B5C;\n",
              "      box-shadow: 0px 1px 3px 1px rgba(0, 0, 0, 0.15);\n",
              "      filter: drop-shadow(0px 1px 2px rgba(0, 0, 0, 0.3));\n",
              "      fill: #FFFFFF;\n",
              "    }\n",
              "  </style>\n",
              "\n",
              "      <script>\n",
              "        const buttonEl =\n",
              "          document.querySelector('#df-16ef7cd3-e777-4103-85ae-4253f1dc6d81 button.colab-df-convert');\n",
              "        buttonEl.style.display =\n",
              "          google.colab.kernel.accessAllowed ? 'block' : 'none';\n",
              "\n",
              "        async function convertToInteractive(key) {\n",
              "          const element = document.querySelector('#df-16ef7cd3-e777-4103-85ae-4253f1dc6d81');\n",
              "          const dataTable =\n",
              "            await google.colab.kernel.invokeFunction('convertToInteractive',\n",
              "                                                     [key], {});\n",
              "          if (!dataTable) return;\n",
              "\n",
              "          const docLinkHtml = 'Like what you see? Visit the ' +\n",
              "            '<a target=\"_blank\" href=https://colab.research.google.com/notebooks/data_table.ipynb>data table notebook</a>'\n",
              "            + ' to learn more about interactive tables.';\n",
              "          element.innerHTML = '';\n",
              "          dataTable['output_type'] = 'display_data';\n",
              "          await google.colab.output.renderOutput(dataTable, element);\n",
              "          const docLink = document.createElement('div');\n",
              "          docLink.innerHTML = docLinkHtml;\n",
              "          element.appendChild(docLink);\n",
              "        }\n",
              "      </script>\n",
              "    </div>\n",
              "  </div>\n",
              "  "
            ]
          },
          "metadata": {},
          "execution_count": 16
        }
      ]
    },
    {
      "cell_type": "markdown",
      "source": [
        "##Q6: Please examine the distribution of monthly charges between males and females using box plots. Please explain the results also. "
      ],
      "metadata": {
        "id": "oOL6q0X6wSCZ"
      }
    },
    {
      "cell_type": "code",
      "source": [
        "# Plotting Boxplot to chacek distribution of monthly charges between male and females\n",
        "# using seaborn library\n",
        "sns.boxplot(x=\"Monthly Charges\",y=\"Gender\",data=df_telco,orient='h')\n",
        "# Title for the plot\n",
        "plt.title(\"Figure 5:Monthly Charges by Gender \")\n",
        "#To show the plot\n",
        "plt.show()"
      ],
      "metadata": {
        "colab": {
          "base_uri": "https://localhost:8080/",
          "height": 235
        },
        "id": "PlhIJBYHw1Jl",
        "outputId": "a2b62f15-ad0c-4713-b98d-f64604432658"
      },
      "execution_count": null,
      "outputs": [
        {
          "output_type": "error",
          "ename": "NameError",
          "evalue": "ignored",
          "traceback": [
            "\u001b[0;31m---------------------------------------------------------------------------\u001b[0m",
            "\u001b[0;31mNameError\u001b[0m                                 Traceback (most recent call last)",
            "\u001b[0;32m<ipython-input-6-be52fab329e8>\u001b[0m in \u001b[0;36m<module>\u001b[0;34m()\u001b[0m\n\u001b[1;32m      1\u001b[0m \u001b[0;31m# Plotting Boxplot to chacek distribution of monthly charges between male and females\u001b[0m\u001b[0;34m\u001b[0m\u001b[0;34m\u001b[0m\u001b[0;34m\u001b[0m\u001b[0m\n\u001b[1;32m      2\u001b[0m \u001b[0;31m# using seaborn library\u001b[0m\u001b[0;34m\u001b[0m\u001b[0;34m\u001b[0m\u001b[0;34m\u001b[0m\u001b[0m\n\u001b[0;32m----> 3\u001b[0;31m \u001b[0msns\u001b[0m\u001b[0;34m.\u001b[0m\u001b[0mboxplot\u001b[0m\u001b[0;34m(\u001b[0m\u001b[0mx\u001b[0m\u001b[0;34m=\u001b[0m\u001b[0;34m\"Monthly Charges\"\u001b[0m\u001b[0;34m,\u001b[0m\u001b[0my\u001b[0m\u001b[0;34m=\u001b[0m\u001b[0;34m\"Gender\"\u001b[0m\u001b[0;34m,\u001b[0m\u001b[0mdata\u001b[0m\u001b[0;34m=\u001b[0m\u001b[0mdf_telco\u001b[0m\u001b[0;34m,\u001b[0m\u001b[0morient\u001b[0m\u001b[0;34m=\u001b[0m\u001b[0;34m'h'\u001b[0m\u001b[0;34m)\u001b[0m\u001b[0;34m\u001b[0m\u001b[0;34m\u001b[0m\u001b[0m\n\u001b[0m\u001b[1;32m      4\u001b[0m \u001b[0;31m# Title for the plot\u001b[0m\u001b[0;34m\u001b[0m\u001b[0;34m\u001b[0m\u001b[0;34m\u001b[0m\u001b[0m\n\u001b[1;32m      5\u001b[0m \u001b[0mplt\u001b[0m\u001b[0;34m.\u001b[0m\u001b[0mtitle\u001b[0m\u001b[0;34m(\u001b[0m\u001b[0;34m\"Figure 5:Monthly Charges by Gender \"\u001b[0m\u001b[0;34m)\u001b[0m\u001b[0;34m\u001b[0m\u001b[0;34m\u001b[0m\u001b[0m\n",
            "\u001b[0;31mNameError\u001b[0m: name 'sns' is not defined"
          ]
        }
      ]
    },
    {
      "cell_type": "code",
      "source": [
        "\n",
        "# Importing Scipy library to calculate skewness\n",
        "\n",
        "from scipy.stats import skew\n",
        "print(skew(df_telco['Monthly Charges'], axis=0, bias=True))"
      ],
      "metadata": {
        "colab": {
          "base_uri": "https://localhost:8080/",
          "height": 200
        },
        "id": "C76V8PYjady9",
        "outputId": "b8d2ff01-ed05-4186-a94d-b01e2130c668"
      },
      "execution_count": null,
      "outputs": [
        {
          "output_type": "error",
          "ename": "NameError",
          "evalue": "ignored",
          "traceback": [
            "\u001b[0;31m---------------------------------------------------------------------------\u001b[0m",
            "\u001b[0;31mNameError\u001b[0m                                 Traceback (most recent call last)",
            "\u001b[0;32m<ipython-input-5-95fcf1b615e1>\u001b[0m in \u001b[0;36m<module>\u001b[0;34m()\u001b[0m\n\u001b[1;32m      3\u001b[0m \u001b[0;34m\u001b[0m\u001b[0m\n\u001b[1;32m      4\u001b[0m \u001b[0;32mfrom\u001b[0m \u001b[0mscipy\u001b[0m\u001b[0;34m.\u001b[0m\u001b[0mstats\u001b[0m \u001b[0;32mimport\u001b[0m \u001b[0mskew\u001b[0m\u001b[0;34m\u001b[0m\u001b[0;34m\u001b[0m\u001b[0m\n\u001b[0;32m----> 5\u001b[0;31m \u001b[0mprint\u001b[0m\u001b[0;34m(\u001b[0m\u001b[0mskew\u001b[0m\u001b[0;34m(\u001b[0m\u001b[0mdf_telco\u001b[0m\u001b[0;34m[\u001b[0m\u001b[0;34m'Monthly Charges'\u001b[0m\u001b[0;34m]\u001b[0m\u001b[0;34m,\u001b[0m \u001b[0maxis\u001b[0m\u001b[0;34m=\u001b[0m\u001b[0;36m0\u001b[0m\u001b[0;34m,\u001b[0m \u001b[0mbias\u001b[0m\u001b[0;34m=\u001b[0m\u001b[0;32mTrue\u001b[0m\u001b[0;34m)\u001b[0m\u001b[0;34m)\u001b[0m\u001b[0;34m\u001b[0m\u001b[0;34m\u001b[0m\u001b[0m\n\u001b[0m",
            "\u001b[0;31mNameError\u001b[0m: name 'df_telco' is not defined"
          ]
        }
      ]
    },
    {
      "cell_type": "markdown",
      "source": [
        "Monthly charges spend by both Male and Female are almost same since the medain line is in same level for both\n",
        "\n",
        "we can observe from above plot that (Q3-Q2)<(Q2-Q1) so the data is left skewed and from skewness values we can say distribution is approximately symmetrical and negatively skewed\n",
        "\n",
        "There are no outliers"
      ],
      "metadata": {
        "id": "OJfg-XWM0EBk"
      }
    },
    {
      "cell_type": "markdown",
      "source": [
        "##Q7: Please find what is the minimum total charges for Los Angeles city. Please find which zip code has the maximum total charges."
      ],
      "metadata": {
        "id": "6rpXYtJn19zt"
      }
    },
    {
      "cell_type": "code",
      "source": [
        "print(f\" Minimum total charges for Los Angeles city: {df_telco[df_telco['City'] == 'Los Angeles'].min()['Total Charges']}\")"
      ],
      "metadata": {
        "colab": {
          "base_uri": "https://localhost:8080/"
        },
        "id": "lhbnBC2aGSaM",
        "outputId": "c261d263-e9a4-4df3-c473-c00079d39593"
      },
      "execution_count": null,
      "outputs": [
        {
          "output_type": "stream",
          "name": "stdout",
          "text": [
            " Minimum total charges for Los Angeles city: 18.8\n"
          ]
        },
        {
          "output_type": "stream",
          "name": "stderr",
          "text": [
            "/usr/local/lib/python3.7/dist-packages/ipykernel_launcher.py:1: FutureWarning: Dropping of nuisance columns in DataFrame reductions (with 'numeric_only=None') is deprecated; in a future version this will raise TypeError.  Select only valid columns before calling the reduction.\n",
            "  \"\"\"Entry point for launching an IPython kernel.\n"
          ]
        }
      ]
    },
    {
      "cell_type": "code",
      "source": [
        "print(f\"zip code has the maximum total charges: {df_telco[df_telco['Total Charges'] == df_telco['Total Charges'].max()]['Zip Code']}\")"
      ],
      "metadata": {
        "colab": {
          "base_uri": "https://localhost:8080/"
        },
        "id": "oOIpZsJPNygW",
        "outputId": "3b02f4a1-d231-4513-e01e-c18165a4e572"
      },
      "execution_count": null,
      "outputs": [
        {
          "output_type": "stream",
          "name": "stdout",
          "text": [
            "zip code has the maximum total charges: 1206    95519.0\n",
            "Name: Zip Code, dtype: float64\n"
          ]
        }
      ]
    },
    {
      "cell_type": "markdown",
      "source": [
        "##Q8: Please find which payment method has the highest churn score and which has the lowest churn score."
      ],
      "metadata": {
        "id": "K4AU0cCLlqQz"
      }
    },
    {
      "cell_type": "code",
      "source": [
        "df_telco.groupby(\"Payment Method\")['Churn Score'].count()"
      ],
      "metadata": {
        "colab": {
          "base_uri": "https://localhost:8080/"
        },
        "id": "40X99vT9l4N7",
        "outputId": "987ec0a1-839e-4439-a6f6-546ec3477f38"
      },
      "execution_count": null,
      "outputs": [
        {
          "output_type": "execute_result",
          "data": {
            "text/plain": [
              "Payment Method\n",
              "Bank transfer (automatic)    1544\n",
              "Credit card (automatic)      1522\n",
              "Electronic check             2365\n",
              "Mailed check                 1612\n",
              "Name: Churn Score, dtype: int64"
            ]
          },
          "metadata": {},
          "execution_count": 21
        }
      ]
    },
    {
      "cell_type": "markdown",
      "source": [
        "credit card (automatic) has lowest churn score and Electronic check has highest churn score"
      ],
      "metadata": {
        "id": "2qNTTDpymMiQ"
      }
    },
    {
      "cell_type": "markdown",
      "source": [
        "##Q9: Please create an appropriate plot to check the count of payment methods and explain it."
      ],
      "metadata": {
        "id": "qdqrHvOmnRq_"
      }
    },
    {
      "cell_type": "code",
      "source": [
        "# plotting count plot to count payment methods using seaborn library\n",
        "sns.countplot(df_telco['Payment Method'])\n",
        "# value counts method will count the total no in each category\n",
        "df_telco['Payment Method'].value_counts()\n",
        "plt.title(\"Figure6: Count of payment methods\")"
      ],
      "metadata": {
        "colab": {
          "base_uri": "https://localhost:8080/",
          "height": 367
        },
        "id": "gF9C9DPUnacp",
        "outputId": "8d5a1873-1d00-4874-d45e-c914d041391d"
      },
      "execution_count": null,
      "outputs": [
        {
          "output_type": "stream",
          "name": "stderr",
          "text": [
            "/usr/local/lib/python3.7/dist-packages/seaborn/_decorators.py:43: FutureWarning: Pass the following variable as a keyword arg: x. From version 0.12, the only valid positional argument will be `data`, and passing other arguments without an explicit keyword will result in an error or misinterpretation.\n",
            "  FutureWarning\n"
          ]
        },
        {
          "output_type": "execute_result",
          "data": {
            "text/plain": [
              "Text(0.5, 1.0, 'Figure6: Count of payment methods')"
            ]
          },
          "metadata": {},
          "execution_count": 22
        },
        {
          "output_type": "display_data",
          "data": {
            "text/plain": [
              "<Figure size 432x288 with 1 Axes>"
            ],
            "image/png": "[encoded data removed]"
          },
          "metadata": {
            "needs_background": "light"
          }
        }
      ]
    },
    {
      "cell_type": "markdown",
      "source": [
        "By observing this plot we can say most of payments are done by Electronic Check and least by credit card (automatic)"
      ],
      "metadata": {
        "id": "w8y6sfIyoACp"
      }
    },
    {
      "cell_type": "markdown",
      "source": [
        "##Q10: Please create an appropriate plot to see the relationship between monthly charges and total charges."
      ],
      "metadata": {
        "id": "zxYDynKUpHAK"
      }
    },
    {
      "cell_type": "code",
      "source": [
        "#Total Charges converted to float type since it is wrongly read as object\n",
        "#since to plot scatter plot we need both variables to be numeric\n",
        "\n",
        "df_telco[\"Total Charges\"] = pd.to_numeric(df_telco[\"Total Charges\"],errors = 'coerce')\n",
        "\n",
        "print(df_telco.info())"
      ],
      "metadata": {
        "id": "ex549nT3z5PJ",
        "colab": {
          "base_uri": "https://localhost:8080/"
        },
        "outputId": "ff4c12f7-e6d8-4c1e-b912-789864894536"
      },
      "execution_count": null,
      "outputs": [
        {
          "output_type": "stream",
          "name": "stdout",
          "text": [
            "<class 'pandas.core.frame.DataFrame'>\n",
            "RangeIndex: 7043 entries, 0 to 7042\n",
            "Data columns (total 33 columns):\n",
            " #   Column             Non-Null Count  Dtype  \n",
            "---  ------             --------------  -----  \n",
            " 0   CustomerID         7043 non-null   object \n",
            " 1   Count              7043 non-null   float64\n",
            " 2   Country            7043 non-null   object \n",
            " 3   State              7043 non-null   object \n",
            " 4   City               7043 non-null   object \n",
            " 5   Zip Code           7043 non-null   float64\n",
            " 6   Lat Long           7043 non-null   object \n",
            " 7   Latitude           7043 non-null   float64\n",
            " 8   Longitude          7043 non-null   float64\n",
            " 9   Gender             7043 non-null   object \n",
            " 10  Senior Citizen     7043 non-null   object \n",
            " 11  Partner            7043 non-null   object \n",
            " 12  Dependents         7043 non-null   object \n",
            " 13  Tenure Months      7043 non-null   float64\n",
            " 14  Phone Service      7043 non-null   object \n",
            " 15  Multiple Lines     7043 non-null   object \n",
            " 16  Internet Service   7043 non-null   object \n",
            " 17  Online Security    7043 non-null   object \n",
            " 18  Online Backup      7043 non-null   object \n",
            " 19  Device Protection  7043 non-null   object \n",
            " 20  Tech Support       7043 non-null   object \n",
            " 21  Streaming TV       7043 non-null   object \n",
            " 22  Streaming Movies   7043 non-null   object \n",
            " 23  Contract           7043 non-null   object \n",
            " 24  Paperless Billing  7043 non-null   object \n",
            " 25  Payment Method     7043 non-null   object \n",
            " 26  Monthly Charges    7043 non-null   float64\n",
            " 27  Total Charges      7032 non-null   float64\n",
            " 28  Churn Label        7043 non-null   object \n",
            " 29  Churn Value        7043 non-null   float64\n",
            " 30  Churn Score        7043 non-null   float64\n",
            " 31  CLTV               7043 non-null   float64\n",
            " 32  Churn Reason       1869 non-null   object \n",
            "dtypes: float64(10), object(23)\n",
            "memory usage: 1.8+ MB\n",
            "None\n"
          ]
        }
      ]
    },
    {
      "cell_type": "code",
      "source": [
        "# scatter plot and regression plot to campare two numeric values\n",
        "sns.scatterplot(x=\"Monthly Charges\",y=\"Total Charges\",data=df_telco)\n",
        "sns.regplot(x=\"Monthly Charges\",\n",
        "            y=\"Total Charges\", \n",
        "            data=df_telco);\n",
        "plt.title(\"Figure 7: scatterplot and regression plot \")\n",
        "\n",
        "plt.show()"
      ],
      "metadata": {
        "colab": {
          "base_uri": "https://localhost:8080/",
          "height": 295
        },
        "id": "PcWvv0fEpS-t",
        "outputId": "4ba99f70-ef94-49b6-ef07-fe827cb90774"
      },
      "execution_count": null,
      "outputs": [
        {
          "output_type": "display_data",
          "data": {
            "text/plain": [
              "<Figure size 432x288 with 1 Axes>"
            ],
            "image/png": "[encoded data removed]"
          },
          "metadata": {
            "needs_background": "light"
          }
        }
      ]
    },
    {
      "cell_type": "code",
      "source": [
        "#Calculating correlation coefficient using corr function\n",
        "df_telco['Monthly Charges'].corr(df_telco['Total Charges'])\n"
      ],
      "metadata": {
        "colab": {
          "base_uri": "https://localhost:8080/"
        },
        "id": "PZDZvIpU6jqv",
        "outputId": "16786fee-437f-4293-c781-edcdd5be3a01"
      },
      "execution_count": null,
      "outputs": [
        {
          "output_type": "execute_result",
          "data": {
            "text/plain": [
              "0.6510648032262027"
            ]
          },
          "metadata": {},
          "execution_count": 25
        }
      ]
    },
    {
      "cell_type": "markdown",
      "source": [
        "From  the plot and coefficeint value we can see there is positive relation between monthy charges and total charges as monthly charges increases total charges increases."
      ],
      "metadata": {
        "id": "M8emYZaC8rwx"
      }
    }
  ]
}