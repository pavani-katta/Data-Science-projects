{
  "nbformat": 4,
  "nbformat_minor": 0,
  "metadata": {
    "colab": {
      "name": "Pavani_katta_DS15_Pyspark_Capstone_Project.ipynb",
      "provenance": [],
      "collapsed_sections": []
    },
    "kernelspec": {
      "name": "python3",
      "display_name": "Python 3"
    },
    "language_info": {
      "name": "python"
    }
  },
  "cells": [
    {
      "cell_type": "markdown",
      "source": [
        "##**Introduction**##\n"
      ],
      "metadata": {
        "id": "p4Na1SUCuiPs"
      }
    },
    {
      "cell_type": "markdown",
      "source": [
        "The dataset is all about Olympics data which contains details about name of athlete,age ,represting which country(belongsto),in which date and year they have played,in which sports they have participated and different types of medals like gold,silver ,brone type of medals they won and total medals\n",
        "\n",
        "lets analyise the data to get required insights"
      ],
      "metadata": {
        "id": "7igrXfLcuwij"
      }
    },
    {
      "cell_type": "code",
      "source": [
        "#Installing Pyspark library\n",
        "!pip install pyspark"
      ],
      "metadata": {
        "colab": {
          "base_uri": "https://localhost:8080/"
        },
        "id": "F1_YrTT6MF_w",
        "outputId": "aec462eb-16ba-474a-8dfa-09c4c71dd2f3"
      },
      "execution_count": null,
      "outputs": [
        {
          "output_type": "stream",
          "name": "stdout",
          "text": [
            "Looking in indexes: https://pypi.org/simple, https://us-python.pkg.dev/colab-wheels/public/simple/\n",
            "Requirement already satisfied: pyspark in /usr/local/lib/python3.7/dist-packages (3.3.0)\n",
            "Requirement already satisfied: py4j==0.10.9.5 in /usr/local/lib/python3.7/dist-packages (from pyspark) (0.10.9.5)\n"
          ]
        }
      ]
    },
    {
      "cell_type": "code",
      "execution_count": null,
      "metadata": {
        "colab": {
          "base_uri": "https://localhost:8080/"
        },
        "id": "hZaM1TX5Ltkw",
        "outputId": "96739b37-0cad-458b-ce3e-eecc28ffb5ee"
      },
      "outputs": [
        {
          "output_type": "stream",
          "name": "stderr",
          "text": [
            "/usr/local/lib/python3.7/dist-packages/pyspark/sql/context.py:114: FutureWarning: Deprecated in 3.0.0. Use SparkSession.builder.getOrCreate() instead.\n",
            "  FutureWarning,\n"
          ]
        }
      ],
      "source": [
        "#Initializing PySpark\n",
        "from pyspark import SparkContext, SparkConf\n",
        "from pyspark.sql import SparkSession\n",
        "from pyspark.sql import SQLContext\n",
        "\n",
        "#Spark Config\n",
        "conf = SparkConf().setAppName(\"sample_app\")\n",
        "sc = SparkContext(conf=conf)\n",
        "spark = SparkSession.builder.appName('Test').getOrCreate()\n",
        "sqlContext = SQLContext(sc)"
      ]
    },
    {
      "cell_type": "code",
      "source": [
        "sc"
      ],
      "metadata": {
        "colab": {
          "base_uri": "https://localhost:8080/",
          "height": 196
        },
        "id": "_4Yo1aiJMcTD",
        "outputId": "b1fb42d9-1f84-4e8e-d88f-28d35e5c3536"
      },
      "execution_count": null,
      "outputs": [
        {
          "output_type": "execute_result",
          "data": {
            "text/plain": [
              "<SparkContext master=local[*] appName=sample_app>"
            ],
            "text/html": [
              "\n",
              "        <div>\n",
              "            <p><b>SparkContext</b></p>\n",
              "\n",
              "            <p><a href=\"http://0d71fda0c945:4040\">Spark UI</a></p>\n",
              "\n",
              "            <dl>\n",
              "              <dt>Version</dt>\n",
              "                <dd><code>v3.3.0</code></dd>\n",
              "              <dt>Master</dt>\n",
              "                <dd><code>local[*]</code></dd>\n",
              "              <dt>AppName</dt>\n",
              "                <dd><code>sample_app</code></dd>\n",
              "            </dl>\n",
              "        </div>\n",
              "        "
            ]
          },
          "metadata": {},
          "execution_count": 5
        }
      ]
    },
    {
      "cell_type": "markdown",
      "source": [
        "##Write PySpark code to read the olympix_data.csv file?"
      ],
      "metadata": {
        "id": "JKQzRecBbTRU"
      }
    },
    {
      "cell_type": "code",
      "source": [
        "# reading given dataset using spark into dataframe df\n",
        "df=spark.read.format(\"csv\").option(\"header\",\"true\").option(\"inferSchema\",\"true\").load(\"/content/olympix_data_organized_with_header.csv\")\n",
        "# to show the output\n",
        "df.show(10)"
      ],
      "metadata": {
        "colab": {
          "base_uri": "https://localhost:8080/"
        },
        "id": "UbD6sL0TMkUN",
        "outputId": "2b944a85-6d5f-402c-aadd-0ab5621598a5"
      },
      "execution_count": null,
      "outputs": [
        {
          "output_type": "stream",
          "name": "stdout",
          "text": [
            "+----------------+---+-------------+----+----------+----------+----------+------------+-----------+-----------+\n",
            "|            name|age|      country|year|Date_Given|    sports|gold_medal|silver_medal|brone_medal|total_medal|\n",
            "+----------------+---+-------------+----+----------+----------+----------+------------+-----------+-----------+\n",
            "|  Michael Phelps| 23|United States|2008| 8/24/2008|  Swimming|         8|           0|          0|          8|\n",
            "|  Michael Phelps| 19|United States|2004| 8/29/2004|  Swimming|         6|           0|          2|          8|\n",
            "|  Michael Phelps| 27|United States|2012|08-12-2012|  Swimming|         4|           2|          0|          6|\n",
            "|Natalie Coughlin| 25|United States|2008| 8/24/2008|  Swimming|         1|           2|          3|          6|\n",
            "|   Aleksey Nemov| 24|       Russia|2000|10-01-2000|Gymnastics|         2|           1|          3|          6|\n",
            "|   Alicia Coutts| 24|    Australia|2012|08-12-2012|  Swimming|         1|           3|          1|          5|\n",
            "|  Missy Franklin| 17|United States|2012|08-12-2012|  Swimming|         4|           0|          1|          5|\n",
            "|     Ryan Lochte| 27|United States|2012|08-12-2012|  Swimming|         2|           2|          1|          5|\n",
            "| Allison Schmitt| 22|United States|2012|08-12-2012|  Swimming|         3|           1|          1|          5|\n",
            "|Natalie Coughlin| 21|United States|2004| 8/29/2004|  Swimming|         2|           2|          1|          5|\n",
            "+----------------+---+-------------+----+----------+----------+----------+------------+-----------+-----------+\n",
            "only showing top 10 rows\n",
            "\n"
          ]
        }
      ]
    },
    {
      "cell_type": "code",
      "source": [
        "df.printSchema()"
      ],
      "metadata": {
        "colab": {
          "base_uri": "https://localhost:8080/"
        },
        "id": "Rt6HJe-790Lc",
        "outputId": "1ec9fd8e-60b9-4246-8cbf-03e88ea9c464"
      },
      "execution_count": null,
      "outputs": [
        {
          "output_type": "stream",
          "name": "stdout",
          "text": [
            "root\n",
            " |-- name: string (nullable = true)\n",
            " |-- age: integer (nullable = true)\n",
            " |-- country: string (nullable = true)\n",
            " |-- year: integer (nullable = true)\n",
            " |-- Date_Given: string (nullable = true)\n",
            " |-- sports: string (nullable = true)\n",
            " |-- gold_medal: integer (nullable = true)\n",
            " |-- silver_medal: integer (nullable = true)\n",
            " |-- brone_medal: integer (nullable = true)\n",
            " |-- total_medal: integer (nullable = true)\n",
            "\n"
          ]
        }
      ]
    },
    {
      "cell_type": "code",
      "source": [
        "# checking for total records\n",
        "df.count()"
      ],
      "metadata": {
        "colab": {
          "base_uri": "https://localhost:8080/"
        },
        "id": "1gvzgAtvqzE9",
        "outputId": "96ce7189-16d4-4a4b-f6e6-1175b30e3d73"
      },
      "execution_count": null,
      "outputs": [
        {
          "output_type": "execute_result",
          "data": {
            "text/plain": [
              "8618"
            ]
          },
          "metadata": {},
          "execution_count": 63
        }
      ]
    },
    {
      "cell_type": "code",
      "source": [
        "# dropping duplicates if any\n",
        "df1=df.dropDuplicates()\n",
        "df1.count()"
      ],
      "metadata": {
        "colab": {
          "base_uri": "https://localhost:8080/"
        },
        "id": "1A7nOKqqrDn6",
        "outputId": "f8e3b0be-ba8f-4f94-cce9-f3cc8510b7d5"
      },
      "execution_count": null,
      "outputs": [
        {
          "output_type": "execute_result",
          "data": {
            "text/plain": [
              "8615"
            ]
          },
          "metadata": {},
          "execution_count": 68
        }
      ]
    },
    {
      "cell_type": "markdown",
      "source": [
        "There are 3 duplicates which were dropped"
      ],
      "metadata": {
        "id": "Kv8AzC0KrkDY"
      }
    },
    {
      "cell_type": "code",
      "source": [
        "# dropping missing if any\n",
        "df1=df1.na.drop()\n",
        "df1.count()"
      ],
      "metadata": {
        "colab": {
          "base_uri": "https://localhost:8080/"
        },
        "id": "jQQ9vsrDq2Ho",
        "outputId": "87dbaa16-584e-4207-ef45-af24c6fe14e3"
      },
      "execution_count": null,
      "outputs": [
        {
          "output_type": "execute_result",
          "data": {
            "text/plain": [
              "8613"
            ]
          },
          "metadata": {},
          "execution_count": 69
        }
      ]
    },
    {
      "cell_type": "markdown",
      "source": [
        "There are two missing values records which were dropped"
      ],
      "metadata": {
        "id": "zpgyHpaPrvA7"
      }
    },
    {
      "cell_type": "code",
      "source": [
        "from pyspark.sql.types import TimestampType\n",
        "df = df.withColumn(\"Date_Given\",df[\"Date_Given\"].cast(TimestampType()))\n",
        "df.printSchema()\n"
      ],
      "metadata": {
        "colab": {
          "base_uri": "https://localhost:8080/"
        },
        "id": "hwb-To3r4pCX",
        "outputId": "47c7afb1-96f8-47a2-ce89-26013723a0e9"
      },
      "execution_count": null,
      "outputs": [
        {
          "output_type": "stream",
          "name": "stdout",
          "text": [
            "root\n",
            " |-- name: string (nullable = true)\n",
            " |-- age: integer (nullable = true)\n",
            " |-- country: string (nullable = true)\n",
            " |-- year: integer (nullable = true)\n",
            " |-- Date_Given: timestamp (nullable = true)\n",
            " |-- sports: string (nullable = true)\n",
            " |-- gold_medal: integer (nullable = true)\n",
            " |-- silver_medal: integer (nullable = true)\n",
            " |-- brone_medal: integer (nullable = true)\n",
            " |-- total_medal: integer (nullable = true)\n",
            "\n"
          ]
        }
      ]
    },
    {
      "cell_type": "code",
      "source": [
        "from pyspark.sql.functions import udf,col\n",
        "#converting name column to list\n",
        "li1= df1.select('name').rdd.flatMap(lambda x: x).collect()\n",
        "#empty list for collecting special characters\n",
        "Cleaned_name=[]\n",
        "for i in li1:\n",
        "   for j in i:\n",
        "    if(j.isalpha()==True):\n",
        "      continue\n",
        "    else:\n",
        "      if j in Cleaned_name:\n",
        "        continue\n",
        "      else:\n",
        "        Cleaned_name.append(j)\n",
        "Cleaned_name.remove(\" \")\n",
        "\n",
        "def name_cleaned(x):\n",
        "  for i in Cleaned_name:\n",
        "      data = x.replace(i,\"\")\n",
        "      return data\n",
        "\n",
        "a=udf(name_cleaned)\n",
        "df1=df.withColumn(\"name\",a(col(\"name\")))\n",
        "df1.show()"
      ],
      "metadata": {
        "id": "WSfxRLv1aAXq",
        "colab": {
          "base_uri": "https://localhost:8080/"
        },
        "outputId": "b0ef5386-5b2b-46a5-fa87-ce131e276e6f"
      },
      "execution_count": null,
      "outputs": [
        {
          "output_type": "stream",
          "name": "stdout",
          "text": [
            "+--------------------+---+-------------+----+----------+--------------------+----------+------------+-----------+-----------+\n",
            "|                name|age|      country|year|Date_Given|              sports|gold_medal|silver_medal|brone_medal|total_medal|\n",
            "+--------------------+---+-------------+----+----------+--------------------+----------+------------+-----------+-----------+\n",
            "|      Michael Phelps| 23|United States|2008|      null|            Swimming|         8|           0|          0|          8|\n",
            "|      Michael Phelps| 19|United States|2004|      null|            Swimming|         6|           0|          2|          8|\n",
            "|      Michael Phelps| 27|United States|2012|      null|            Swimming|         4|           2|          0|          6|\n",
            "|    Natalie Coughlin| 25|United States|2008|      null|            Swimming|         1|           2|          3|          6|\n",
            "|       Aleksey Nemov| 24|       Russia|2000|      null|          Gymnastics|         2|           1|          3|          6|\n",
            "|       Alicia Coutts| 24|    Australia|2012|      null|            Swimming|         1|           3|          1|          5|\n",
            "|      Missy Franklin| 17|United States|2012|      null|            Swimming|         4|           0|          1|          5|\n",
            "|         Ryan Lochte| 27|United States|2012|      null|            Swimming|         2|           2|          1|          5|\n",
            "|     Allison Schmitt| 22|United States|2012|      null|            Swimming|         3|           1|          1|          5|\n",
            "|    Natalie Coughlin| 21|United States|2004|      null|            Swimming|         2|           2|          1|          5|\n",
            "|          Ian Thorpe| 17|    Australia|2000|      null|            Swimming|         3|           2|          0|          5|\n",
            "|         Dara Torres| 33|United States|2000|      null|            Swimming|         2|           0|          3|          5|\n",
            "|       Cindy Klassen| 26|       Canada|2006|      null|       Speed Skating|         1|           2|          2|          5|\n",
            "|       Nastia Liukin| 18|United States|2008|      null|          Gymnastics|         1|           3|          1|          5|\n",
            "|       Marit Bjørgen| 29|       Norway|2010|      null|Cross Country Skiing|         3|           1|          1|          5|\n",
            "|            Sun Yang| 20|        China|2012|      null|            Swimming|         2|           1|          1|          4|\n",
            "|     Kirsty Coventry| 24|     Zimbabwe|2008|      null|            Swimming|         1|           3|          0|          4|\n",
            "|Libby LentonTrickett| 23|    Australia|2008|      null|            Swimming|         2|           1|          1|          4|\n",
            "|         Ryan Lochte| 24|United States|2008|      null|            Swimming|         2|           0|          2|          4|\n",
            "|      Inge de Bruijn| 30|  Netherlands|2004|      null|            Swimming|         1|           1|          2|          4|\n",
            "+--------------------+---+-------------+----+----------+--------------------+----------+------------+-----------+-----------+\n",
            "only showing top 20 rows\n",
            "\n"
          ]
        }
      ]
    },
    {
      "cell_type": "markdown",
      "source": [
        "##Write PySpark code to print the Olympic Sports/games in the dataset?"
      ],
      "metadata": {
        "id": "79ZXhifhcRTU"
      }
    },
    {
      "cell_type": "code",
      "source": [
        "df1.select(\"sports\").distinct().show()"
      ],
      "metadata": {
        "id": "wZa4LOckcotq",
        "colab": {
          "base_uri": "https://localhost:8080/"
        },
        "outputId": "3f8d466c-290f-4fca-c5a5-65bdaf616189"
      },
      "execution_count": null,
      "outputs": [
        {
          "output_type": "stream",
          "name": "stdout",
          "text": [
            "+--------------------+\n",
            "|              sports|\n",
            "+--------------------+\n",
            "|          Gymnastics|\n",
            "|              Tennis|\n",
            "|              Boxing|\n",
            "|Short-Track Speed...|\n",
            "|          Ice Hockey|\n",
            "|              Rowing|\n",
            "|                Judo|\n",
            "|            Softball|\n",
            "|             Sailing|\n",
            "|            Swimming|\n",
            "|       Alpine Skiing|\n",
            "|          Basketball|\n",
            "|            Handball|\n",
            "| Rhythmic Gymnastics|\n",
            "|            Biathlon|\n",
            "|           Triathlon|\n",
            "|           Badminton|\n",
            "|           Athletics|\n",
            "|      Figure Skating|\n",
            "|    Beach Volleyball|\n",
            "+--------------------+\n",
            "only showing top 20 rows\n",
            "\n"
          ]
        }
      ]
    },
    {
      "cell_type": "markdown",
      "source": [
        "##Write PySpark code to plot the total number of medals in  each Olympic Sport/game?"
      ],
      "metadata": {
        "id": "0dzOBXk5dNwa"
      }
    },
    {
      "cell_type": "code",
      "source": [
        "from pyspark.sql.functions import desc\n",
        "df2=df1.groupBy(\"sports\").sum('total_medal')\n",
        "df2.show()"
      ],
      "metadata": {
        "id": "Y1ES0eIodaXx",
        "colab": {
          "base_uri": "https://localhost:8080/"
        },
        "outputId": "89ba8c38-5acd-4eb7-b048-95571a35ff65"
      },
      "execution_count": null,
      "outputs": [
        {
          "output_type": "stream",
          "name": "stdout",
          "text": [
            "+--------------------+----------------+\n",
            "|              sports|sum(total_medal)|\n",
            "+--------------------+----------------+\n",
            "|          Gymnastics|             282|\n",
            "|              Tennis|              78|\n",
            "|              Boxing|             188|\n",
            "|Short-Track Speed...|             138|\n",
            "|          Ice Hockey|             384|\n",
            "|              Rowing|             576|\n",
            "|                Judo|             224|\n",
            "|            Softball|             134|\n",
            "|             Sailing|             210|\n",
            "|            Swimming|             765|\n",
            "|       Alpine Skiing|              90|\n",
            "|          Basketball|             287|\n",
            "|            Handball|             351|\n",
            "| Rhythmic Gymnastics|              84|\n",
            "|            Biathlon|             138|\n",
            "|           Triathlon|              24|\n",
            "|           Badminton|              96|\n",
            "|           Athletics|             753|\n",
            "|      Figure Skating|              54|\n",
            "|    Beach Volleyball|              48|\n",
            "+--------------------+----------------+\n",
            "only showing top 20 rows\n",
            "\n"
          ]
        }
      ]
    },
    {
      "cell_type": "code",
      "source": [
        "# importing all necessary libraries\n",
        "import pandas as pd\n",
        "import numpy as np\n",
        "import matplotlib.pyplot as plt\n",
        "import seaborn as sns\n",
        "df3=df2.toPandas()\n",
        "df3"
      ],
      "metadata": {
        "colab": {
          "base_uri": "https://localhost:8080/",
          "height": 1000
        },
        "id": "zwHUCf0TDxwd",
        "outputId": "ceb9092d-0481-44b9-89e9-e0e23558ae4a"
      },
      "execution_count": null,
      "outputs": [
        {
          "output_type": "execute_result",
          "data": {
            "text/plain": [
              "                       sports  sum(total_medal)\n",
              "0                  Gymnastics               282\n",
              "1                      Tennis                78\n",
              "2                      Boxing               188\n",
              "3   Short-Track Speed Skating               138\n",
              "4                  Ice Hockey               384\n",
              "5                      Rowing               576\n",
              "6                        Judo               224\n",
              "7                    Softball               134\n",
              "8                     Sailing               210\n",
              "9                    Swimming               765\n",
              "10              Alpine Skiing                90\n",
              "11                 Basketball               287\n",
              "12                   Handball               351\n",
              "13        Rhythmic Gymnastics                84\n",
              "14                   Biathlon               138\n",
              "15                  Triathlon                24\n",
              "16                  Badminton                96\n",
              "17                  Athletics               753\n",
              "18             Figure Skating                54\n",
              "19           Beach Volleyball                48\n",
              "20                 Equestrian               182\n",
              "21                   Shooting               192\n",
              "22                     Diving               144\n",
              "23                   Skeleton                18\n",
              "24                Ski Jumping                54\n",
              "25            Nordic Combined                54\n",
              "26                  Wrestling               245\n",
              "27              Speed Skating               140\n",
              "28               Table Tennis                84\n",
              "29                  Taekwondo               112\n",
              "30                   Canoeing               333\n",
              "31              Weightlifting               180\n",
              "32                  Waterpolo               306\n",
              "33                   Baseball               216\n",
              "34          Modern Pentathlon                24\n",
              "35               Snowboarding                48\n",
              "36                  Bobsleigh                72\n",
              "37                    Cycling               306\n",
              "38       Cross Country Skiing               174\n",
              "39                 Volleyball               281\n",
              "40                    Archery                96\n",
              "41      Synchronized Swimming               129\n",
              "42                    Curling                82\n",
              "43                    Fencing               256\n",
              "44                     Hockey               388\n",
              "45           Freestyle Skiing                42\n",
              "46                   Football               407\n",
              "47                       Luge                36\n",
              "48                 Trampoline                24"
            ],
            "text/html": [
              "\n",
              "  <div id=\"df-79d1e594-16a4-48de-af5f-c949c65a169f\">\n",
              "    <div class=\"colab-df-container\">\n",
              "      <div>\n",
              "<style scoped>\n",
              "    .dataframe tbody tr th:only-of-type {\n",
              "        vertical-align: middle;\n",
              "    }\n",
              "\n",
              "    .dataframe tbody tr th {\n",
              "        vertical-align: top;\n",
              "    }\n",
              "\n",
              "    .dataframe thead th {\n",
              "        text-align: right;\n",
              "    }\n",
              "</style>\n",
              "<table border=\"1\" class=\"dataframe\">\n",
              "  <thead>\n",
              "    <tr style=\"text-align: right;\">\n",
              "      <th></th>\n",
              "      <th>sports</th>\n",
              "      <th>sum(total_medal)</th>\n",
              "    </tr>\n",
              "  </thead>\n",
              "  <tbody>\n",
              "    <tr>\n",
              "      <th>0</th>\n",
              "      <td>Gymnastics</td>\n",
              "      <td>282</td>\n",
              "    </tr>\n",
              "    <tr>\n",
              "      <th>1</th>\n",
              "      <td>Tennis</td>\n",
              "      <td>78</td>\n",
              "    </tr>\n",
              "    <tr>\n",
              "      <th>2</th>\n",
              "      <td>Boxing</td>\n",
              "      <td>188</td>\n",
              "    </tr>\n",
              "    <tr>\n",
              "      <th>3</th>\n",
              "      <td>Short-Track Speed Skating</td>\n",
              "      <td>138</td>\n",
              "    </tr>\n",
              "    <tr>\n",
              "      <th>4</th>\n",
              "      <td>Ice Hockey</td>\n",
              "      <td>384</td>\n",
              "    </tr>\n",
              "    <tr>\n",
              "      <th>5</th>\n",
              "      <td>Rowing</td>\n",
              "      <td>576</td>\n",
              "    </tr>\n",
              "    <tr>\n",
              "      <th>6</th>\n",
              "      <td>Judo</td>\n",
              "      <td>224</td>\n",
              "    </tr>\n",
              "    <tr>\n",
              "      <th>7</th>\n",
              "      <td>Softball</td>\n",
              "      <td>134</td>\n",
              "    </tr>\n",
              "    <tr>\n",
              "      <th>8</th>\n",
              "      <td>Sailing</td>\n",
              "      <td>210</td>\n",
              "    </tr>\n",
              "    <tr>\n",
              "      <th>9</th>\n",
              "      <td>Swimming</td>\n",
              "      <td>765</td>\n",
              "    </tr>\n",
              "    <tr>\n",
              "      <th>10</th>\n",
              "      <td>Alpine Skiing</td>\n",
              "      <td>90</td>\n",
              "    </tr>\n",
              "    <tr>\n",
              "      <th>11</th>\n",
              "      <td>Basketball</td>\n",
              "      <td>287</td>\n",
              "    </tr>\n",
              "    <tr>\n",
              "      <th>12</th>\n",
              "      <td>Handball</td>\n",
              "      <td>351</td>\n",
              "    </tr>\n",
              "    <tr>\n",
              "      <th>13</th>\n",
              "      <td>Rhythmic Gymnastics</td>\n",
              "      <td>84</td>\n",
              "    </tr>\n",
              "    <tr>\n",
              "      <th>14</th>\n",
              "      <td>Biathlon</td>\n",
              "      <td>138</td>\n",
              "    </tr>\n",
              "    <tr>\n",
              "      <th>15</th>\n",
              "      <td>Triathlon</td>\n",
              "      <td>24</td>\n",
              "    </tr>\n",
              "    <tr>\n",
              "      <th>16</th>\n",
              "      <td>Badminton</td>\n",
              "      <td>96</td>\n",
              "    </tr>\n",
              "    <tr>\n",
              "      <th>17</th>\n",
              "      <td>Athletics</td>\n",
              "      <td>753</td>\n",
              "    </tr>\n",
              "    <tr>\n",
              "      <th>18</th>\n",
              "      <td>Figure Skating</td>\n",
              "      <td>54</td>\n",
              "    </tr>\n",
              "    <tr>\n",
              "      <th>19</th>\n",
              "      <td>Beach Volleyball</td>\n",
              "      <td>48</td>\n",
              "    </tr>\n",
              "    <tr>\n",
              "      <th>20</th>\n",
              "      <td>Equestrian</td>\n",
              "      <td>182</td>\n",
              "    </tr>\n",
              "    <tr>\n",
              "      <th>21</th>\n",
              "      <td>Shooting</td>\n",
              "      <td>192</td>\n",
              "    </tr>\n",
              "    <tr>\n",
              "      <th>22</th>\n",
              "      <td>Diving</td>\n",
              "      <td>144</td>\n",
              "    </tr>\n",
              "    <tr>\n",
              "      <th>23</th>\n",
              "      <td>Skeleton</td>\n",
              "      <td>18</td>\n",
              "    </tr>\n",
              "    <tr>\n",
              "      <th>24</th>\n",
              "      <td>Ski Jumping</td>\n",
              "      <td>54</td>\n",
              "    </tr>\n",
              "    <tr>\n",
              "      <th>25</th>\n",
              "      <td>Nordic Combined</td>\n",
              "      <td>54</td>\n",
              "    </tr>\n",
              "    <tr>\n",
              "      <th>26</th>\n",
              "      <td>Wrestling</td>\n",
              "      <td>245</td>\n",
              "    </tr>\n",
              "    <tr>\n",
              "      <th>27</th>\n",
              "      <td>Speed Skating</td>\n",
              "      <td>140</td>\n",
              "    </tr>\n",
              "    <tr>\n",
              "      <th>28</th>\n",
              "      <td>Table Tennis</td>\n",
              "      <td>84</td>\n",
              "    </tr>\n",
              "    <tr>\n",
              "      <th>29</th>\n",
              "      <td>Taekwondo</td>\n",
              "      <td>112</td>\n",
              "    </tr>\n",
              "    <tr>\n",
              "      <th>30</th>\n",
              "      <td>Canoeing</td>\n",
              "      <td>333</td>\n",
              "    </tr>\n",
              "    <tr>\n",
              "      <th>31</th>\n",
              "      <td>Weightlifting</td>\n",
              "      <td>180</td>\n",
              "    </tr>\n",
              "    <tr>\n",
              "      <th>32</th>\n",
              "      <td>Waterpolo</td>\n",
              "      <td>306</td>\n",
              "    </tr>\n",
              "    <tr>\n",
              "      <th>33</th>\n",
              "      <td>Baseball</td>\n",
              "      <td>216</td>\n",
              "    </tr>\n",
              "    <tr>\n",
              "      <th>34</th>\n",
              "      <td>Modern Pentathlon</td>\n",
              "      <td>24</td>\n",
              "    </tr>\n",
              "    <tr>\n",
              "      <th>35</th>\n",
              "      <td>Snowboarding</td>\n",
              "      <td>48</td>\n",
              "    </tr>\n",
              "    <tr>\n",
              "      <th>36</th>\n",
              "      <td>Bobsleigh</td>\n",
              "      <td>72</td>\n",
              "    </tr>\n",
              "    <tr>\n",
              "      <th>37</th>\n",
              "      <td>Cycling</td>\n",
              "      <td>306</td>\n",
              "    </tr>\n",
              "    <tr>\n",
              "      <th>38</th>\n",
              "      <td>Cross Country Skiing</td>\n",
              "      <td>174</td>\n",
              "    </tr>\n",
              "    <tr>\n",
              "      <th>39</th>\n",
              "      <td>Volleyball</td>\n",
              "      <td>281</td>\n",
              "    </tr>\n",
              "    <tr>\n",
              "      <th>40</th>\n",
              "      <td>Archery</td>\n",
              "      <td>96</td>\n",
              "    </tr>\n",
              "    <tr>\n",
              "      <th>41</th>\n",
              "      <td>Synchronized Swimming</td>\n",
              "      <td>129</td>\n",
              "    </tr>\n",
              "    <tr>\n",
              "      <th>42</th>\n",
              "      <td>Curling</td>\n",
              "      <td>82</td>\n",
              "    </tr>\n",
              "    <tr>\n",
              "      <th>43</th>\n",
              "      <td>Fencing</td>\n",
              "      <td>256</td>\n",
              "    </tr>\n",
              "    <tr>\n",
              "      <th>44</th>\n",
              "      <td>Hockey</td>\n",
              "      <td>388</td>\n",
              "    </tr>\n",
              "    <tr>\n",
              "      <th>45</th>\n",
              "      <td>Freestyle Skiing</td>\n",
              "      <td>42</td>\n",
              "    </tr>\n",
              "    <tr>\n",
              "      <th>46</th>\n",
              "      <td>Football</td>\n",
              "      <td>407</td>\n",
              "    </tr>\n",
              "    <tr>\n",
              "      <th>47</th>\n",
              "      <td>Luge</td>\n",
              "      <td>36</td>\n",
              "    </tr>\n",
              "    <tr>\n",
              "      <th>48</th>\n",
              "      <td>Trampoline</td>\n",
              "      <td>24</td>\n",
              "    </tr>\n",
              "  </tbody>\n",
              "</table>\n",
              "</div>\n",
              "      <button class=\"colab-df-convert\" onclick=\"convertToInteractive('df-79d1e594-16a4-48de-af5f-c949c65a169f')\"\n",
              "              title=\"Convert this dataframe to an interactive table.\"\n",
              "              style=\"display:none;\">\n",
              "        \n",
              "  <svg xmlns=\"http://www.w3.org/2000/svg\" height=\"24px\"viewBox=\"0 0 24 24\"\n",
              "       width=\"24px\">\n",
              "    <path d=\"M0 0h24v24H0V0z\" fill=\"none\"/>\n",
              "    <path d=\"M18.56 5.44l.94 2.06.94-2.06 2.06-.94-2.06-.94-.94-2.06-.94 2.06-2.06.94zm-11 1L8.5 8.5l.94-2.06 2.06-.94-2.06-.94L8.5 2.5l-.94 2.06-2.06.94zm10 10l.94 2.06.94-2.06 2.06-.94-2.06-.94-.94-2.06-.94 2.06-2.06.94z\"/><path d=\"M17.41 7.96l-1.37-1.37c-.4-.4-.92-.59-1.43-.59-.52 0-1.04.2-1.43.59L10.3 9.45l-7.72 7.72c-.78.78-.78 2.05 0 2.83L4 21.41c.39.39.9.59 1.41.59.51 0 1.02-.2 1.41-.59l7.78-7.78 2.81-2.81c.8-.78.8-2.07 0-2.86zM5.41 20L4 18.59l7.72-7.72 1.47 1.35L5.41 20z\"/>\n",
              "  </svg>\n",
              "      </button>\n",
              "      \n",
              "  <style>\n",
              "    .colab-df-container {\n",
              "      display:flex;\n",
              "      flex-wrap:wrap;\n",
              "      gap: 12px;\n",
              "    }\n",
              "\n",
              "    .colab-df-convert {\n",
              "      background-color: #E8F0FE;\n",
              "      border: none;\n",
              "      border-radius: 50%;\n",
              "      cursor: pointer;\n",
              "      display: none;\n",
              "      fill: #1967D2;\n",
              "      height: 32px;\n",
              "      padding: 0 0 0 0;\n",
              "      width: 32px;\n",
              "    }\n",
              "\n",
              "    .colab-df-convert:hover {\n",
              "      background-color: #E2EBFA;\n",
              "      box-shadow: 0px 1px 2px rgba(60, 64, 67, 0.3), 0px 1px 3px 1px rgba(60, 64, 67, 0.15);\n",
              "      fill: #174EA6;\n",
              "    }\n",
              "\n",
              "    [theme=dark] .colab-df-convert {\n",
              "      background-color: #3B4455;\n",
              "      fill: #D2E3FC;\n",
              "    }\n",
              "\n",
              "    [theme=dark] .colab-df-convert:hover {\n",
              "      background-color: #434B5C;\n",
              "      box-shadow: 0px 1px 3px 1px rgba(0, 0, 0, 0.15);\n",
              "      filter: drop-shadow(0px 1px 2px rgba(0, 0, 0, 0.3));\n",
              "      fill: #FFFFFF;\n",
              "    }\n",
              "  </style>\n",
              "\n",
              "      <script>\n",
              "        const buttonEl =\n",
              "          document.querySelector('#df-79d1e594-16a4-48de-af5f-c949c65a169f button.colab-df-convert');\n",
              "        buttonEl.style.display =\n",
              "          google.colab.kernel.accessAllowed ? 'block' : 'none';\n",
              "\n",
              "        async function convertToInteractive(key) {\n",
              "          const element = document.querySelector('#df-79d1e594-16a4-48de-af5f-c949c65a169f');\n",
              "          const dataTable =\n",
              "            await google.colab.kernel.invokeFunction('convertToInteractive',\n",
              "                                                     [key], {});\n",
              "          if (!dataTable) return;\n",
              "\n",
              "          const docLinkHtml = 'Like what you see? Visit the ' +\n",
              "            '<a target=\"_blank\" href=https://colab.research.google.com/notebooks/data_table.ipynb>data table notebook</a>'\n",
              "            + ' to learn more about interactive tables.';\n",
              "          element.innerHTML = '';\n",
              "          dataTable['output_type'] = 'display_data';\n",
              "          await google.colab.output.renderOutput(dataTable, element);\n",
              "          const docLink = document.createElement('div');\n",
              "          docLink.innerHTML = docLinkHtml;\n",
              "          element.appendChild(docLink);\n",
              "        }\n",
              "      </script>\n",
              "    </div>\n",
              "  </div>\n",
              "  "
            ]
          },
          "metadata": {},
          "execution_count": 83
        }
      ]
    },
    {
      "cell_type": "code",
      "source": [
        "#defining the size of plot\n",
        "fig = plt.figure(figsize=(12,10))\n",
        "sns.barplot(x = \"sports\",y = \"sum(total_medal)\",data =df3)\n",
        "\n",
        "plt.title('Counts of total medals', fontsize=20)\n",
        "plt.xticks(rotation=90)"
      ],
      "metadata": {
        "colab": {
          "base_uri": "https://localhost:8080/",
          "height": 816
        },
        "id": "U282vO4cEgl_",
        "outputId": "b7157190-dce8-47cc-a780-2beb79f6241a"
      },
      "execution_count": null,
      "outputs": [
        {
          "output_type": "execute_result",
          "data": {
            "text/plain": [
              "(array([ 0,  1,  2,  3,  4,  5,  6,  7,  8,  9, 10, 11, 12, 13, 14, 15, 16,\n",
              "        17, 18, 19, 20, 21, 22, 23, 24, 25, 26, 27, 28, 29, 30, 31, 32, 33,\n",
              "        34, 35, 36, 37, 38, 39, 40, 41, 42, 43, 44, 45, 46, 47, 48]),\n",
              " <a list of 49 Text major ticklabel objects>)"
            ]
          },
          "metadata": {},
          "execution_count": 84
        },
        {
          "output_type": "display_data",
          "data": {
            "text/plain": [
              "<Figure size 864x720 with 1 Axes>"
            ],
            "image/png": "[encoded data removed]"
          },
          "metadata": {
            "needs_background": "light"
          }
        }
      ]
    },
    {
      "cell_type": "markdown",
      "source": [
        "We can say from both result and plot sport swimming takes takes more total medals"
      ],
      "metadata": {
        "id": "NSiS3z6nsLYP"
      }
    },
    {
      "cell_type": "markdown",
      "source": [
        "##Sort the result based on the total number of medals?"
      ],
      "metadata": {
        "id": "NEz64PiVdym6"
      }
    },
    {
      "cell_type": "code",
      "source": [
        "#sorting total no of medals by each sport\n",
        "res=df2.sort(\"sum(total_medal)\",ascending = [False]).show()"
      ],
      "metadata": {
        "colab": {
          "base_uri": "https://localhost:8080/"
        },
        "id": "IV23qNe9HxhR",
        "outputId": "a4c35474-1ec0-4e3f-eba6-b6b9538d658e"
      },
      "execution_count": null,
      "outputs": [
        {
          "output_type": "stream",
          "name": "stdout",
          "text": [
            "+----------+----------------+\n",
            "|    sports|sum(total_medal)|\n",
            "+----------+----------------+\n",
            "|  Swimming|             765|\n",
            "| Athletics|             753|\n",
            "|    Rowing|             576|\n",
            "|  Football|             407|\n",
            "|    Hockey|             388|\n",
            "|Ice Hockey|             384|\n",
            "|  Handball|             351|\n",
            "|  Canoeing|             333|\n",
            "| Waterpolo|             306|\n",
            "|   Cycling|             306|\n",
            "|Basketball|             287|\n",
            "|Gymnastics|             282|\n",
            "|Volleyball|             281|\n",
            "|   Fencing|             256|\n",
            "| Wrestling|             245|\n",
            "|      Judo|             224|\n",
            "|  Baseball|             216|\n",
            "|   Sailing|             210|\n",
            "|  Shooting|             192|\n",
            "|    Boxing|             188|\n",
            "+----------+----------------+\n",
            "only showing top 20 rows\n",
            "\n"
          ]
        }
      ]
    },
    {
      "cell_type": "markdown",
      "source": [
        "##Find the total number of medals won by each country in swimming?"
      ],
      "metadata": {
        "id": "K7NzltBbeuZ5"
      }
    },
    {
      "cell_type": "code",
      "source": [
        "# calculating total no of medals by each country in swimming\n",
        "df1.filter(df1[\"sports\"]=='Swimming').groupBy(\"country\").sum(\"total_medal\").orderBy(desc(\"sum(total_medal)\")).show()"
      ],
      "metadata": {
        "colab": {
          "base_uri": "https://localhost:8080/"
        },
        "id": "LsOFr61Lfazz",
        "outputId": "c93ee5bd-95f8-4c20-fd11-5cbfaf03e77a"
      },
      "execution_count": null,
      "outputs": [
        {
          "output_type": "stream",
          "name": "stdout",
          "text": [
            "+-------------+----------------+\n",
            "|      country|sum(total_medal)|\n",
            "+-------------+----------------+\n",
            "|United States|             267|\n",
            "|    Australia|             163|\n",
            "|  Netherlands|              46|\n",
            "|        Japan|              43|\n",
            "|       France|              39|\n",
            "|        China|              35|\n",
            "|      Germany|              32|\n",
            "|       Russia|              20|\n",
            "|        Italy|              16|\n",
            "|Great Britain|              11|\n",
            "| South Africa|              11|\n",
            "|       Sweden|               9|\n",
            "|      Hungary|               9|\n",
            "|       Brazil|               8|\n",
            "|      Ukraine|               7|\n",
            "|     Zimbabwe|               7|\n",
            "|      Romania|               6|\n",
            "|       Canada|               5|\n",
            "|  South Korea|               4|\n",
            "|        Spain|               3|\n",
            "+-------------+----------------+\n",
            "only showing top 20 rows\n",
            "\n"
          ]
        }
      ]
    },
    {
      "cell_type": "markdown",
      "source": [
        "##Find the total number of medals won by each country in Skeleton?"
      ],
      "metadata": {
        "id": "JQMzT6d8gP77"
      }
    },
    {
      "cell_type": "code",
      "source": [
        "# calculating total no of medals by each country in skeleton\n",
        "df1.filter(df1[\"sports\"]=='Skeleton').groupBy(\"country\").sum(\"total_medal\").orderBy(desc(\"sum(total_medal)\")).show()"
      ],
      "metadata": {
        "colab": {
          "base_uri": "https://localhost:8080/"
        },
        "id": "xj9l_wa5gXGM",
        "outputId": "c034bbc7-54cd-4d6b-b608-65cdd8e95b66"
      },
      "execution_count": null,
      "outputs": [
        {
          "output_type": "stream",
          "name": "stdout",
          "text": [
            "+-------------+----------------+\n",
            "|      country|sum(total_medal)|\n",
            "+-------------+----------------+\n",
            "|       Canada|               4|\n",
            "|Great Britain|               3|\n",
            "|  Switzerland|               3|\n",
            "|United States|               3|\n",
            "|      Germany|               2|\n",
            "|       Russia|               1|\n",
            "|      Austria|               1|\n",
            "|       Latvia|               1|\n",
            "+-------------+----------------+\n",
            "\n"
          ]
        }
      ]
    },
    {
      "cell_type": "markdown",
      "source": [
        "##Find the number of medals that the US won yearly?"
      ],
      "metadata": {
        "id": "W9IrdpHLghrx"
      }
    },
    {
      "cell_type": "code",
      "source": [
        "# calculating total no of medals by united states year wise\n",
        "df1.filter(df1[\"country\"]=='United States').groupBy(\"year\").sum(\"total_medal\").orderBy(desc(\"sum(total_medal)\")).show()"
      ],
      "metadata": {
        "colab": {
          "base_uri": "https://localhost:8080/"
        },
        "id": "nykHGUJagp-i",
        "outputId": "5e9411ad-b5eb-4a14-e7ac-ff241627193e"
      },
      "execution_count": null,
      "outputs": [
        {
          "output_type": "stream",
          "name": "stdout",
          "text": [
            "+----+----------------+\n",
            "|year|sum(total_medal)|\n",
            "+----+----------------+\n",
            "|2008|             317|\n",
            "|2004|             265|\n",
            "|2012|             254|\n",
            "|2000|             243|\n",
            "|2010|              97|\n",
            "|2002|              84|\n",
            "|2006|              52|\n",
            "+----+----------------+\n",
            "\n"
          ]
        }
      ]
    },
    {
      "cell_type": "markdown",
      "source": [
        "##Find the total number of medals won by each country?"
      ],
      "metadata": {
        "id": "LpRkvRFthHQP"
      }
    },
    {
      "cell_type": "code",
      "source": [
        "# calculating total no of medals by each country \n",
        "df1.groupBy(\"country\").sum(\"total_medal\").orderBy(desc(\"sum(total_medal)\")).show()\n"
      ],
      "metadata": {
        "colab": {
          "base_uri": "https://localhost:8080/"
        },
        "id": "EI7Hn9YDhMF1",
        "outputId": "6387696b-4a24-47ad-a0c8-e10e2937385b"
      },
      "execution_count": null,
      "outputs": [
        {
          "output_type": "stream",
          "name": "stdout",
          "text": [
            "+-------------+----------------+\n",
            "|      country|sum(total_medal)|\n",
            "+-------------+----------------+\n",
            "|United States|            1312|\n",
            "|       Russia|             768|\n",
            "|      Germany|             629|\n",
            "|    Australia|             609|\n",
            "|        China|             530|\n",
            "|       Canada|             370|\n",
            "|        Italy|             331|\n",
            "|Great Britain|             322|\n",
            "|       France|             318|\n",
            "|  Netherlands|             318|\n",
            "|  South Korea|             308|\n",
            "|        Japan|             282|\n",
            "|       Brazil|             221|\n",
            "|        Spain|             205|\n",
            "|       Norway|             192|\n",
            "|         Cuba|             188|\n",
            "|       Sweden|             181|\n",
            "|      Hungary|             145|\n",
            "|      Ukraine|             143|\n",
            "|    Argentina|             141|\n",
            "+-------------+----------------+\n",
            "only showing top 20 rows\n",
            "\n"
          ]
        }
      ]
    },
    {
      "cell_type": "markdown",
      "source": [
        "##Who was the oldest athlete in the olympics?"
      ],
      "metadata": {
        "id": "B4-XtH7moiT-"
      }
    },
    {
      "cell_type": "code",
      "source": [
        "# calculating oldest athlete in the given name column\n",
        "df1.groupBy(\"name\").max(\"age\").orderBy(desc(\"max(age)\")).show(1)"
      ],
      "metadata": {
        "colab": {
          "base_uri": "https://localhost:8080/"
        },
        "id": "KYMvKtS4pKIP",
        "outputId": "eedab9fa-2102-42be-f085-cd7084f7a415"
      },
      "execution_count": null,
      "outputs": [
        {
          "output_type": "stream",
          "name": "stdout",
          "text": [
            "+----------+--------+\n",
            "|      name|max(age)|\n",
            "+----------+--------+\n",
            "|Ian Millar|      61|\n",
            "+----------+--------+\n",
            "only showing top 1 row\n",
            "\n"
          ]
        }
      ]
    },
    {
      "cell_type": "markdown",
      "source": [
        "IanMillar is the oldest athlete who is 61 years old"
      ],
      "metadata": {
        "id": "XKWShT5mp0NF"
      }
    },
    {
      "cell_type": "markdown",
      "source": [
        "##Which country was he/she from?"
      ],
      "metadata": {
        "id": "UrDr7MhlqUMV"
      }
    },
    {
      "cell_type": "code",
      "source": [
        "# Finding to which country that oldest athlete belongs\n",
        "df1.filter(df1[\"name\"]=='Ian Millar').show()\n"
      ],
      "metadata": {
        "colab": {
          "base_uri": "https://localhost:8080/"
        },
        "id": "Gx1QaQ_6qt-w",
        "outputId": "b1f1fb3d-ef03-475d-85e9-d517d547f9d9"
      },
      "execution_count": null,
      "outputs": [
        {
          "output_type": "stream",
          "name": "stdout",
          "text": [
            "+----------+---+-------+----+----------+----------+----------+------------+-----------+-----------+\n",
            "|      name|age|country|year|Date_Given|    sports|gold_medal|silver_medal|brone_medal|total_medal|\n",
            "+----------+---+-------+----+----------+----------+----------+------------+-----------+-----------+\n",
            "|Ian Millar| 61| Canada|2008| 8/24/2008|Equestrian|         0|           1|          0|          1|\n",
            "+----------+---+-------+----+----------+----------+----------+------------+-----------+-----------+\n",
            "\n"
          ]
        }
      ]
    },
    {
      "cell_type": "markdown",
      "source": [
        "Ian Millar is from Canada"
      ],
      "metadata": {
        "id": "O9ARU5AkrFEL"
      }
    }
  ]
}